{
 "cells": [
  {
   "cell_type": "code",
   "execution_count": 1,
   "id": "a666bbba-2ef7-4ad8-8d93-fd39c2cfa4c2",
   "metadata": {},
   "outputs": [],
   "source": [
    "import pandas as pd\n",
    "import requests\n",
    "import re\n",
    "import numpy as np\n",
    "import ast\n",
    "import pickle"
   ]
  },
  {
   "cell_type": "code",
   "execution_count": 2,
   "id": "37fe4638-dd93-41c8-b2d6-e60362a2978d",
   "metadata": {},
   "outputs": [],
   "source": [
    "# new_df = pd.read_csv('IMDB-Movie-Dataset(2023-1951).csv',index_col=0)\n",
    "# new_df2=pd.read_csv('Processed_2024_updated.csv',index_col=0)"
   ]
  },
  {
   "cell_type": "code",
   "execution_count": 3,
   "id": "26375208-7c9d-4228-9a0c-06edcdcd029e",
   "metadata": {},
   "outputs": [],
   "source": [
    "new_df = pd.read_csv(\"final_movie_dataset_with_keyword.csv\", index_col=0)"
   ]
  },
  {
   "cell_type": "code",
   "execution_count": 4,
   "id": "8ac0d889-ce36-46d9-a23e-e646f3195433",
   "metadata": {},
   "outputs": [
    {
     "data": {
      "text/html": [
       "<div>\n",
       "<style scoped>\n",
       "    .dataframe tbody tr th:only-of-type {\n",
       "        vertical-align: middle;\n",
       "    }\n",
       "\n",
       "    .dataframe tbody tr th {\n",
       "        vertical-align: top;\n",
       "    }\n",
       "\n",
       "    .dataframe thead th {\n",
       "        text-align: right;\n",
       "    }\n",
       "</style>\n",
       "<table border=\"1\" class=\"dataframe\">\n",
       "  <thead>\n",
       "    <tr style=\"text-align: right;\">\n",
       "      <th></th>\n",
       "      <th>movie_id</th>\n",
       "      <th>movie_name</th>\n",
       "      <th>year</th>\n",
       "      <th>genre</th>\n",
       "      <th>overview</th>\n",
       "      <th>director</th>\n",
       "      <th>cast</th>\n",
       "      <th>movie_id2</th>\n",
       "      <th>Keywords</th>\n",
       "    </tr>\n",
       "  </thead>\n",
       "  <tbody>\n",
       "    <tr>\n",
       "      <th>2831</th>\n",
       "      <td>tt32106143</td>\n",
       "      <td>Love Mocktail 2</td>\n",
       "      <td>2024.0</td>\n",
       "      <td>Drama, Romance</td>\n",
       "      <td>A sequel to Love Mocktail. Revolves around Aad...</td>\n",
       "      <td>Darling Krishna</td>\n",
       "      <td>Baby Aaradhya, Abhilaash, Khushi Achar, Baby A...</td>\n",
       "      <td>32106143</td>\n",
       "      <td>NaN</td>\n",
       "    </tr>\n",
       "    <tr>\n",
       "      <th>439</th>\n",
       "      <td>tt0278291</td>\n",
       "      <td>Ajnabee</td>\n",
       "      <td>2001</td>\n",
       "      <td>Action, Crime, Drama</td>\n",
       "      <td>A newlywed couple, Raj and Priya, move to Swit...</td>\n",
       "      <td>Abbas Alibhai Burmawalla, Mastan Alibhai Burma...</td>\n",
       "      <td>Akshay Kumar, Bobby Deol, Kareena Kapoor, Bipa...</td>\n",
       "      <td>278291</td>\n",
       "      <td>visual impairment, latex, blood, woman wrapped...</td>\n",
       "    </tr>\n",
       "    <tr>\n",
       "      <th>3607</th>\n",
       "      <td>tt33396044</td>\n",
       "      <td>The E-Ghost</td>\n",
       "      <td>2024.0</td>\n",
       "      <td>Horror</td>\n",
       "      <td>Unknown</td>\n",
       "      <td>Ankush Darode</td>\n",
       "      <td>Chirag Jani, Sameer Khan, Ayesha Khana, Pramod...</td>\n",
       "      <td>33396044</td>\n",
       "      <td>NaN</td>\n",
       "    </tr>\n",
       "    <tr>\n",
       "      <th>1554</th>\n",
       "      <td>tt1027813</td>\n",
       "      <td>Free Entry</td>\n",
       "      <td>2006</td>\n",
       "      <td>Drama, Romance</td>\n",
       "      <td>The movie is a story of twin sisters coveting ...</td>\n",
       "      <td>Kanti Shah</td>\n",
       "      <td>Anil Nagrath, Amit Pachori, Sapna Sappu</td>\n",
       "      <td>1027813</td>\n",
       "      <td>NaN</td>\n",
       "    </tr>\n",
       "    <tr>\n",
       "      <th>3131</th>\n",
       "      <td>tt30139449</td>\n",
       "      <td>The Suit</td>\n",
       "      <td>2024.0</td>\n",
       "      <td>unknown</td>\n",
       "      <td>Unknown</td>\n",
       "      <td>S. Bhagat Raj</td>\n",
       "      <td>Sujay Arya, Umesh Banakar, Guruprasad, Kamal, ...</td>\n",
       "      <td>30139449</td>\n",
       "      <td>NaN</td>\n",
       "    </tr>\n",
       "  </tbody>\n",
       "</table>\n",
       "</div>"
      ],
      "text/plain": [
       "        movie_id       movie_name    year                 genre  \\\n",
       "2831  tt32106143  Love Mocktail 2  2024.0        Drama, Romance   \n",
       "439    tt0278291          Ajnabee    2001  Action, Crime, Drama   \n",
       "3607  tt33396044      The E-Ghost  2024.0                Horror   \n",
       "1554   tt1027813       Free Entry    2006        Drama, Romance   \n",
       "3131  tt30139449         The Suit  2024.0               unknown   \n",
       "\n",
       "                                               overview  \\\n",
       "2831  A sequel to Love Mocktail. Revolves around Aad...   \n",
       "439   A newlywed couple, Raj and Priya, move to Swit...   \n",
       "3607                                            Unknown   \n",
       "1554  The movie is a story of twin sisters coveting ...   \n",
       "3131                                            Unknown   \n",
       "\n",
       "                                               director  \\\n",
       "2831                                    Darling Krishna   \n",
       "439   Abbas Alibhai Burmawalla, Mastan Alibhai Burma...   \n",
       "3607                                      Ankush Darode   \n",
       "1554                                         Kanti Shah   \n",
       "3131                                      S. Bhagat Raj   \n",
       "\n",
       "                                                   cast  movie_id2  \\\n",
       "2831  Baby Aaradhya, Abhilaash, Khushi Achar, Baby A...   32106143   \n",
       "439   Akshay Kumar, Bobby Deol, Kareena Kapoor, Bipa...     278291   \n",
       "3607  Chirag Jani, Sameer Khan, Ayesha Khana, Pramod...   33396044   \n",
       "1554            Anil Nagrath, Amit Pachori, Sapna Sappu    1027813   \n",
       "3131  Sujay Arya, Umesh Banakar, Guruprasad, Kamal, ...   30139449   \n",
       "\n",
       "                                               Keywords  \n",
       "2831                                                NaN  \n",
       "439   visual impairment, latex, blood, woman wrapped...  \n",
       "3607                                                NaN  \n",
       "1554                                                NaN  \n",
       "3131                                                NaN  "
      ]
     },
     "execution_count": 4,
     "metadata": {},
     "output_type": "execute_result"
    }
   ],
   "source": [
    "new_df.sample(5)"
   ]
  },
  {
   "cell_type": "code",
   "execution_count": 5,
   "id": "fe39a1a4-5c94-461f-84a7-dc9aba5b1026",
   "metadata": {},
   "outputs": [
    {
     "data": {
      "text/plain": [
       "(4031, 9)"
      ]
     },
     "execution_count": 5,
     "metadata": {},
     "output_type": "execute_result"
    }
   ],
   "source": [
    "new_df.shape"
   ]
  },
  {
   "cell_type": "code",
   "execution_count": 6,
   "id": "d4e3863a-15e1-4666-92a5-64235be9a44b",
   "metadata": {},
   "outputs": [
    {
     "data": {
      "text/plain": [
       "55"
      ]
     },
     "execution_count": 6,
     "metadata": {},
     "output_type": "execute_result"
    }
   ],
   "source": [
    "new_df[\"movie_id\"].duplicated().sum()"
   ]
  },
  {
   "cell_type": "code",
   "execution_count": 7,
   "id": "b5a3f670-56cb-4068-b36d-ea93a56cf8cd",
   "metadata": {},
   "outputs": [],
   "source": [
    "new_df = new_df.drop_duplicates(subset='movie_id', keep='first')"
   ]
  },
  {
   "cell_type": "code",
   "execution_count": 8,
   "id": "62ea49f3-bd72-4dd2-91a9-b986efa26a82",
   "metadata": {},
   "outputs": [
    {
     "data": {
      "text/plain": [
       "0"
      ]
     },
     "execution_count": 8,
     "metadata": {},
     "output_type": "execute_result"
    }
   ],
   "source": [
    "new_df[\"movie_id\"].duplicated().sum()"
   ]
  },
  {
   "cell_type": "code",
   "execution_count": 9,
   "id": "422885bd-cb59-4d9e-94d6-fcf982ac9cff",
   "metadata": {},
   "outputs": [
    {
     "data": {
      "text/plain": [
       "movie_id         0\n",
       "movie_name       0\n",
       "year            65\n",
       "genre            0\n",
       "overview         0\n",
       "director         0\n",
       "cast             0\n",
       "movie_id2        0\n",
       "Keywords      1746\n",
       "dtype: int64"
      ]
     },
     "execution_count": 9,
     "metadata": {},
     "output_type": "execute_result"
    }
   ],
   "source": [
    "new_df.isnull().sum()"
   ]
  },
  {
   "cell_type": "code",
   "execution_count": 10,
   "id": "52ed1038-df0f-4c05-aad0-86d6d33cae27",
   "metadata": {},
   "outputs": [],
   "source": [
    "new_df[\"year\"]= new_df[\"year\"].replace(np.nan, \"Unknown\")\n",
    "new_df[\"Keywords\"]= new_df[\"Keywords\"].replace(np.nan, \"Unknown\")"
   ]
  },
  {
   "cell_type": "code",
   "execution_count": 11,
   "id": "c8bebbf5-d7e8-4ce1-903c-1a2fee18c1f1",
   "metadata": {},
   "outputs": [
    {
     "data": {
      "text/plain": [
       "movie_id      0\n",
       "movie_name    0\n",
       "year          0\n",
       "genre         0\n",
       "overview      0\n",
       "director      0\n",
       "cast          0\n",
       "movie_id2     0\n",
       "Keywords      0\n",
       "dtype: int64"
      ]
     },
     "execution_count": 11,
     "metadata": {},
     "output_type": "execute_result"
    }
   ],
   "source": [
    "new_df.isnull().sum()"
   ]
  },
  {
   "cell_type": "code",
   "execution_count": 12,
   "id": "3ccbb718-2691-4f6f-841e-3c8a42d19044",
   "metadata": {},
   "outputs": [
    {
     "data": {
      "text/plain": [
       "array(['2023', '2016', '2009', '2012', '2001', '2007', '2018', '2022',\n",
       "       '1982', '2014', '2010', '2017', '2015', '2024', '2004', '2011',\n",
       "       '1998', '2006', '2002', '2019', '2013', '2003', '2021', '1999',\n",
       "       '1995', '2008', '2020', '2000', '1975', 'Unknown', '1993', '1994',\n",
       "       '2025', '2005', '1997', '1967', '1992', 'XV2016', '1991', '1965',\n",
       "       '1988', '1970', '1957', '1956', '1990', 'V2020', '1983', '1996',\n",
       "       '1987', '1959', 'X2020', '1981', '1978', '1989', 'V', '1972',\n",
       "       '1960', '1953', '1973', '1966', '1955', '1984', '1964', '1962',\n",
       "       '1977', '1971', '1985', '1980', '2026', '1976', '1958', '1986',\n",
       "       'X', '1974', '1932', '1969', '1979', '1961', '1968', 'V2023',\n",
       "       '1951', '1954', 'XXX', 'XXV', '1963', '2024.0'], dtype=object)"
      ]
     },
     "execution_count": 12,
     "metadata": {},
     "output_type": "execute_result"
    }
   ],
   "source": [
    "new_df['year'].unique()"
   ]
  },
  {
   "cell_type": "code",
   "execution_count": 13,
   "id": "1f127476-24dd-41e2-b07f-c12013ad0039",
   "metadata": {},
   "outputs": [
    {
     "data": {
      "text/plain": [
       "3976"
      ]
     },
     "execution_count": 13,
     "metadata": {},
     "output_type": "execute_result"
    }
   ],
   "source": [
    "new_df['year'].value_counts().sum()"
   ]
  },
  {
   "cell_type": "code",
   "execution_count": 14,
   "id": "7ef8d26c-e8a2-4393-8647-cb14a8a7c03b",
   "metadata": {},
   "outputs": [],
   "source": [
    "def remove_alpha_or_nan(year):\n",
    "    # Use regular expression to remove all alphabetic characters\n",
    "    cleaned_year = re.sub(r'[A-Za-z]', '', year)\n",
    "    \n",
    "    # If the result is an empty string, return NaN\n",
    "    if cleaned_year == '':\n",
    "        return 0\n",
    "    return cleaned_year"
   ]
  },
  {
   "cell_type": "code",
   "execution_count": 15,
   "id": "e8d37f25-2d1f-49b1-93a2-f299f5e12232",
   "metadata": {},
   "outputs": [],
   "source": [
    "new_df['year'] = new_df['year'].astype(str).apply(remove_alpha_or_nan)"
   ]
  },
  {
   "cell_type": "code",
   "execution_count": 16,
   "id": "2565beaa-ab1d-490d-b7d9-dbdd4a7a7039",
   "metadata": {},
   "outputs": [
    {
     "data": {
      "text/plain": [
       "array(['2023', '2016', '2009', '2012', '2001', '2007', '2018', '2022',\n",
       "       '1982', '2014', '2010', '2017', '2015', '2024', '2004', '2011',\n",
       "       '1998', '2006', '2002', '2019', '2013', '2003', '2021', '1999',\n",
       "       '1995', '2008', '2020', '2000', '1975', 0, '1993', '1994', '2025',\n",
       "       '2005', '1997', '1967', '1992', '1991', '1965', '1988', '1970',\n",
       "       '1957', '1956', '1990', '1983', '1996', '1987', '1959', '1981',\n",
       "       '1978', '1989', '1972', '1960', '1953', '1973', '1966', '1955',\n",
       "       '1984', '1964', '1962', '1977', '1971', '1985', '1980', '2026',\n",
       "       '1976', '1958', '1986', '1974', '1932', '1969', '1979', '1961',\n",
       "       '1968', '1951', '1954', '1963', '2024.0'], dtype=object)"
      ]
     },
     "execution_count": 16,
     "metadata": {},
     "output_type": "execute_result"
    }
   ],
   "source": [
    "new_df['year'].unique()"
   ]
  },
  {
   "cell_type": "code",
   "execution_count": 17,
   "id": "f65804c9-ec74-4aab-a47e-771fd288cca1",
   "metadata": {},
   "outputs": [
    {
     "data": {
      "text/plain": [
       "array(['2023', '2023', '2023', ..., '2024.0', '2024.0', '2024.0'],\n",
       "      dtype=object)"
      ]
     },
     "execution_count": 17,
     "metadata": {},
     "output_type": "execute_result"
    }
   ],
   "source": [
    "new_df['year'].values"
   ]
  },
  {
   "cell_type": "code",
   "execution_count": 18,
   "id": "b7ec0606-2459-441f-9a0e-4e0d419fec86",
   "metadata": {},
   "outputs": [],
   "source": [
    "new_df['year'] = new_df['year'].astype(float)"
   ]
  },
  {
   "cell_type": "code",
   "execution_count": 19,
   "id": "4d15d1fa-3e7e-4e90-ad07-a03481d63bcf",
   "metadata": {},
   "outputs": [],
   "source": [
    "new_df['year'] = new_df['year'].astype(int)"
   ]
  },
  {
   "cell_type": "code",
   "execution_count": 20,
   "id": "955927ac-feeb-4262-830f-f34326346e21",
   "metadata": {},
   "outputs": [
    {
     "data": {
      "text/plain": [
       "movie_id      object\n",
       "movie_name    object\n",
       "year           int32\n",
       "genre         object\n",
       "overview      object\n",
       "director      object\n",
       "cast          object\n",
       "movie_id2      int64\n",
       "Keywords      object\n",
       "dtype: object"
      ]
     },
     "execution_count": 20,
     "metadata": {},
     "output_type": "execute_result"
    }
   ],
   "source": [
    "new_df.dtypes"
   ]
  },
  {
   "cell_type": "code",
   "execution_count": 21,
   "id": "67f54a37-cc0f-4b97-afc9-7dcdb638d88d",
   "metadata": {},
   "outputs": [],
   "source": [
    "new_df['cast'] = new_df['cast'].str.replace(' ', '')\n",
    "new_df['genre'] = new_df['genre'].str.replace(' ', '')\n",
    "new_df['director'] = new_df['director'].str.replace(' ', '')\n",
    "new_df['Keywords'] = new_df['Keywords'].str.replace(' ', '')"
   ]
  },
  {
   "cell_type": "code",
   "execution_count": 22,
   "id": "d453db6c-2668-46ed-9a93-b3616990a56a",
   "metadata": {},
   "outputs": [
    {
     "data": {
      "text/plain": [
       "0       [A, high-octane, action, thriller, which, outl...\n",
       "1       [A, single, mother, and, her, daughter, who, c...\n",
       "2       [A, retired, jailer, goes, on, a, manhunt, to,...\n",
       "3       [Flamboyant, Punjabi, Rocky, and, intellectual...\n",
       "4       [An, unhappy, civilian, asks, the, court, to, ...\n",
       "                              ...                        \n",
       "4026    [A, young, worker's, epic, bicycle, journey, h...\n",
       "4027                                            [Unknown]\n",
       "4028                                            [Unknown]\n",
       "4029    ['Satchi, Perumal', with, the, main, lead, Per...\n",
       "4030    [This, is, a, story, of, a, young, man, boy, n...\n",
       "Name: overview, Length: 3976, dtype: object"
      ]
     },
     "execution_count": 22,
     "metadata": {},
     "output_type": "execute_result"
    }
   ],
   "source": [
    "new_df['overview'] = new_df['overview'].apply(lambda x:x.split())\n",
    "new_df['overview']"
   ]
  },
  {
   "cell_type": "code",
   "execution_count": 23,
   "id": "7451fdc9-ff9b-4d8b-aaf9-6896854d51dc",
   "metadata": {},
   "outputs": [],
   "source": [
    "new_df['genre'] = new_df['genre'].apply(lambda x:x.split())\n",
    "new_df['director'] = new_df['director'].apply(lambda x:x.split())\n",
    "new_df['cast'] = new_df['cast'].apply(lambda x:x.split())\n",
    "new_df['Keywords'] = new_df['Keywords'].apply(lambda x:x.split())"
   ]
  },
  {
   "cell_type": "code",
   "execution_count": 24,
   "id": "6febfc61-6a1f-4d83-b36e-d001e655d2e7",
   "metadata": {},
   "outputs": [
    {
     "data": {
      "text/html": [
       "<div>\n",
       "<style scoped>\n",
       "    .dataframe tbody tr th:only-of-type {\n",
       "        vertical-align: middle;\n",
       "    }\n",
       "\n",
       "    .dataframe tbody tr th {\n",
       "        vertical-align: top;\n",
       "    }\n",
       "\n",
       "    .dataframe thead th {\n",
       "        text-align: right;\n",
       "    }\n",
       "</style>\n",
       "<table border=\"1\" class=\"dataframe\">\n",
       "  <thead>\n",
       "    <tr style=\"text-align: right;\">\n",
       "      <th></th>\n",
       "      <th>movie_id</th>\n",
       "      <th>movie_name</th>\n",
       "      <th>year</th>\n",
       "      <th>genre</th>\n",
       "      <th>overview</th>\n",
       "      <th>director</th>\n",
       "      <th>cast</th>\n",
       "      <th>movie_id2</th>\n",
       "      <th>Keywords</th>\n",
       "    </tr>\n",
       "  </thead>\n",
       "  <tbody>\n",
       "    <tr>\n",
       "      <th>1621</th>\n",
       "      <td>tt7972000</td>\n",
       "      <td>Junko</td>\n",
       "      <td>2017</td>\n",
       "      <td>[Crime]</td>\n",
       "      <td>[Add, a, Plot]</td>\n",
       "      <td>[AbhinavThakur]</td>\n",
       "      <td>[NeelamDeysarkar,AayushThakur,AaravMavi,Aashif...</td>\n",
       "      <td>7972000</td>\n",
       "      <td>[Unknown]</td>\n",
       "    </tr>\n",
       "    <tr>\n",
       "      <th>3065</th>\n",
       "      <td>tt31957391</td>\n",
       "      <td>Krime Komedy Karma</td>\n",
       "      <td>2024</td>\n",
       "      <td>[Comedy]</td>\n",
       "      <td>[Unknown]</td>\n",
       "      <td>[PrabhatSachdeva]</td>\n",
       "      <td>[AishwaryaRajBhakuni,PreetBhatti,K.P.Maurya,Fa...</td>\n",
       "      <td>31957391</td>\n",
       "      <td>[Unknown]</td>\n",
       "    </tr>\n",
       "    <tr>\n",
       "      <th>115</th>\n",
       "      <td>tt23554840</td>\n",
       "      <td>The Vaccine War</td>\n",
       "      <td>2023</td>\n",
       "      <td>[Drama,Thriller]</td>\n",
       "      <td>[Based, on, India's, battle, against, Covid-19...</td>\n",
       "      <td>[VivekAgnihotri]</td>\n",
       "      <td>[NiveditaBhattacharya,AnupamKher,GirijaOak,Nan...</td>\n",
       "      <td>23554840</td>\n",
       "      <td>[hospital,doctor,pandemic,medicaldrama,coronav...</td>\n",
       "    </tr>\n",
       "    <tr>\n",
       "      <th>3588</th>\n",
       "      <td>tt30612316</td>\n",
       "      <td>In Your Language</td>\n",
       "      <td>2024</td>\n",
       "      <td>[Documentary]</td>\n",
       "      <td>[A, group, of, students, aged, between, 18, to...</td>\n",
       "      <td>[RamGayathriKrishna]</td>\n",
       "      <td>[MaitreyaMaitreyan]</td>\n",
       "      <td>30612316</td>\n",
       "      <td>[Unknown]</td>\n",
       "    </tr>\n",
       "    <tr>\n",
       "      <th>891</th>\n",
       "      <td>tt0095198</td>\n",
       "      <td>Gangaa Jamunaa Saraswathi</td>\n",
       "      <td>1988</td>\n",
       "      <td>[Action,Drama,Romance]</td>\n",
       "      <td>[Gangaa, Jamunaa, and, Saraswathi, the, most, ...</td>\n",
       "      <td>[ManmohanDesai]</td>\n",
       "      <td>[AmitabhBachchan,MithunChakraborty,JayaPrada,M...</td>\n",
       "      <td>95198</td>\n",
       "      <td>[unclenephewrelationship,watertower,amnesia,fi...</td>\n",
       "    </tr>\n",
       "  </tbody>\n",
       "</table>\n",
       "</div>"
      ],
      "text/plain": [
       "        movie_id                 movie_name  year                   genre  \\\n",
       "1621   tt7972000                      Junko  2017                 [Crime]   \n",
       "3065  tt31957391         Krime Komedy Karma  2024                [Comedy]   \n",
       "115   tt23554840            The Vaccine War  2023        [Drama,Thriller]   \n",
       "3588  tt30612316           In Your Language  2024           [Documentary]   \n",
       "891    tt0095198  Gangaa Jamunaa Saraswathi  1988  [Action,Drama,Romance]   \n",
       "\n",
       "                                               overview              director  \\\n",
       "1621                                     [Add, a, Plot]       [AbhinavThakur]   \n",
       "3065                                          [Unknown]     [PrabhatSachdeva]   \n",
       "115   [Based, on, India's, battle, against, Covid-19...      [VivekAgnihotri]   \n",
       "3588  [A, group, of, students, aged, between, 18, to...  [RamGayathriKrishna]   \n",
       "891   [Gangaa, Jamunaa, and, Saraswathi, the, most, ...       [ManmohanDesai]   \n",
       "\n",
       "                                                   cast  movie_id2  \\\n",
       "1621  [NeelamDeysarkar,AayushThakur,AaravMavi,Aashif...    7972000   \n",
       "3065  [AishwaryaRajBhakuni,PreetBhatti,K.P.Maurya,Fa...   31957391   \n",
       "115   [NiveditaBhattacharya,AnupamKher,GirijaOak,Nan...   23554840   \n",
       "3588                                [MaitreyaMaitreyan]   30612316   \n",
       "891   [AmitabhBachchan,MithunChakraborty,JayaPrada,M...      95198   \n",
       "\n",
       "                                               Keywords  \n",
       "1621                                          [Unknown]  \n",
       "3065                                          [Unknown]  \n",
       "115   [hospital,doctor,pandemic,medicaldrama,coronav...  \n",
       "3588                                          [Unknown]  \n",
       "891   [unclenephewrelationship,watertower,amnesia,fi...  "
      ]
     },
     "execution_count": 24,
     "metadata": {},
     "output_type": "execute_result"
    }
   ],
   "source": [
    "new_df.sample(5)"
   ]
  },
  {
   "cell_type": "code",
   "execution_count": 25,
   "id": "fe0547bd-7211-4ea0-82d9-65117332113e",
   "metadata": {},
   "outputs": [],
   "source": [
    "new_df['tags'] = new_df['overview'] + new_df['genre'] + new_df['director'] + new_df['cast'] + new_df[\"Keywords\"]"
   ]
  },
  {
   "cell_type": "code",
   "execution_count": 26,
   "id": "20fef0d9-cbc9-4e2b-88d8-51d9b7d97690",
   "metadata": {},
   "outputs": [],
   "source": [
    "new_df = new_df.drop(columns=['overview','genre','cast','director', 'Keywords'])"
   ]
  },
  {
   "cell_type": "code",
   "execution_count": 27,
   "id": "1da50a43-1032-4461-b349-2ec6e01a24fc",
   "metadata": {},
   "outputs": [
    {
     "data": {
      "text/html": [
       "<div>\n",
       "<style scoped>\n",
       "    .dataframe tbody tr th:only-of-type {\n",
       "        vertical-align: middle;\n",
       "    }\n",
       "\n",
       "    .dataframe tbody tr th {\n",
       "        vertical-align: top;\n",
       "    }\n",
       "\n",
       "    .dataframe thead th {\n",
       "        text-align: right;\n",
       "    }\n",
       "</style>\n",
       "<table border=\"1\" class=\"dataframe\">\n",
       "  <thead>\n",
       "    <tr style=\"text-align: right;\">\n",
       "      <th></th>\n",
       "      <th>movie_id</th>\n",
       "      <th>movie_name</th>\n",
       "      <th>year</th>\n",
       "      <th>movie_id2</th>\n",
       "      <th>tags</th>\n",
       "    </tr>\n",
       "  </thead>\n",
       "  <tbody>\n",
       "    <tr>\n",
       "      <th>0</th>\n",
       "      <td>tt15354916</td>\n",
       "      <td>Jawan</td>\n",
       "      <td>2023</td>\n",
       "      <td>15354916</td>\n",
       "      <td>[A, high-octane, action, thriller, which, outl...</td>\n",
       "    </tr>\n",
       "    <tr>\n",
       "      <th>1</th>\n",
       "      <td>tt15748830</td>\n",
       "      <td>Jaane Jaan</td>\n",
       "      <td>2023</td>\n",
       "      <td>15748830</td>\n",
       "      <td>[A, single, mother, and, her, daughter, who, c...</td>\n",
       "    </tr>\n",
       "    <tr>\n",
       "      <th>2</th>\n",
       "      <td>tt11663228</td>\n",
       "      <td>Jailer</td>\n",
       "      <td>2023</td>\n",
       "      <td>11663228</td>\n",
       "      <td>[A, retired, jailer, goes, on, a, manhunt, to,...</td>\n",
       "    </tr>\n",
       "    <tr>\n",
       "      <th>3</th>\n",
       "      <td>tt14993250</td>\n",
       "      <td>Rocky Aur Rani Kii Prem Kahaani</td>\n",
       "      <td>2023</td>\n",
       "      <td>14993250</td>\n",
       "      <td>[Flamboyant, Punjabi, Rocky, and, intellectual...</td>\n",
       "    </tr>\n",
       "    <tr>\n",
       "      <th>4</th>\n",
       "      <td>tt15732324</td>\n",
       "      <td>OMG 2</td>\n",
       "      <td>2023</td>\n",
       "      <td>15732324</td>\n",
       "      <td>[An, unhappy, civilian, asks, the, court, to, ...</td>\n",
       "    </tr>\n",
       "  </tbody>\n",
       "</table>\n",
       "</div>"
      ],
      "text/plain": [
       "     movie_id                       movie_name  year  movie_id2  \\\n",
       "0  tt15354916                            Jawan  2023   15354916   \n",
       "1  tt15748830                       Jaane Jaan  2023   15748830   \n",
       "2  tt11663228                           Jailer  2023   11663228   \n",
       "3  tt14993250  Rocky Aur Rani Kii Prem Kahaani  2023   14993250   \n",
       "4  tt15732324                            OMG 2  2023   15732324   \n",
       "\n",
       "                                                tags  \n",
       "0  [A, high-octane, action, thriller, which, outl...  \n",
       "1  [A, single, mother, and, her, daughter, who, c...  \n",
       "2  [A, retired, jailer, goes, on, a, manhunt, to,...  \n",
       "3  [Flamboyant, Punjabi, Rocky, and, intellectual...  \n",
       "4  [An, unhappy, civilian, asks, the, court, to, ...  "
      ]
     },
     "execution_count": 27,
     "metadata": {},
     "output_type": "execute_result"
    }
   ],
   "source": [
    "new_df.head()"
   ]
  },
  {
   "cell_type": "code",
   "execution_count": 28,
   "id": "0c1e8a33-db16-4cbf-aa28-c02aa7625690",
   "metadata": {},
   "outputs": [
    {
     "data": {
      "text/html": [
       "<div>\n",
       "<style scoped>\n",
       "    .dataframe tbody tr th:only-of-type {\n",
       "        vertical-align: middle;\n",
       "    }\n",
       "\n",
       "    .dataframe tbody tr th {\n",
       "        vertical-align: top;\n",
       "    }\n",
       "\n",
       "    .dataframe thead th {\n",
       "        text-align: right;\n",
       "    }\n",
       "</style>\n",
       "<table border=\"1\" class=\"dataframe\">\n",
       "  <thead>\n",
       "    <tr style=\"text-align: right;\">\n",
       "      <th></th>\n",
       "      <th>movie_id</th>\n",
       "      <th>movie_name</th>\n",
       "      <th>year</th>\n",
       "      <th>movie_id2</th>\n",
       "      <th>tags</th>\n",
       "    </tr>\n",
       "  </thead>\n",
       "  <tbody>\n",
       "    <tr>\n",
       "      <th>0</th>\n",
       "      <td>tt15354916</td>\n",
       "      <td>Jawan</td>\n",
       "      <td>2023</td>\n",
       "      <td>15354916</td>\n",
       "      <td>A high-octane action thriller which outlines t...</td>\n",
       "    </tr>\n",
       "    <tr>\n",
       "      <th>1</th>\n",
       "      <td>tt15748830</td>\n",
       "      <td>Jaane Jaan</td>\n",
       "      <td>2023</td>\n",
       "      <td>15748830</td>\n",
       "      <td>A single mother and her daughter who commit a ...</td>\n",
       "    </tr>\n",
       "    <tr>\n",
       "      <th>2</th>\n",
       "      <td>tt11663228</td>\n",
       "      <td>Jailer</td>\n",
       "      <td>2023</td>\n",
       "      <td>11663228</td>\n",
       "      <td>A retired jailer goes on a manhunt to find his...</td>\n",
       "    </tr>\n",
       "    <tr>\n",
       "      <th>3</th>\n",
       "      <td>tt14993250</td>\n",
       "      <td>Rocky Aur Rani Kii Prem Kahaani</td>\n",
       "      <td>2023</td>\n",
       "      <td>14993250</td>\n",
       "      <td>Flamboyant Punjabi Rocky and intellectual Beng...</td>\n",
       "    </tr>\n",
       "    <tr>\n",
       "      <th>4</th>\n",
       "      <td>tt15732324</td>\n",
       "      <td>OMG 2</td>\n",
       "      <td>2023</td>\n",
       "      <td>15732324</td>\n",
       "      <td>An unhappy civilian asks the court to mandate ...</td>\n",
       "    </tr>\n",
       "  </tbody>\n",
       "</table>\n",
       "</div>"
      ],
      "text/plain": [
       "     movie_id                       movie_name  year  movie_id2  \\\n",
       "0  tt15354916                            Jawan  2023   15354916   \n",
       "1  tt15748830                       Jaane Jaan  2023   15748830   \n",
       "2  tt11663228                           Jailer  2023   11663228   \n",
       "3  tt14993250  Rocky Aur Rani Kii Prem Kahaani  2023   14993250   \n",
       "4  tt15732324                            OMG 2  2023   15732324   \n",
       "\n",
       "                                                tags  \n",
       "0  A high-octane action thriller which outlines t...  \n",
       "1  A single mother and her daughter who commit a ...  \n",
       "2  A retired jailer goes on a manhunt to find his...  \n",
       "3  Flamboyant Punjabi Rocky and intellectual Beng...  \n",
       "4  An unhappy civilian asks the court to mandate ...  "
      ]
     },
     "execution_count": 28,
     "metadata": {},
     "output_type": "execute_result"
    }
   ],
   "source": [
    "new_df['tags'] = new_df['tags'].apply(lambda x: \" \".join(x))\n",
    "new_df.head()"
   ]
  },
  {
   "cell_type": "code",
   "execution_count": 29,
   "id": "d1ba51a8-4043-46d3-b62e-296bc239e4fe",
   "metadata": {},
   "outputs": [
    {
     "data": {
      "text/plain": [
       "'A high-octane action thriller which outlines the emotional journey of a man who is set to rectify the wrongs in the society. Action,Thriller Atlee ShahRukhKhan,Nayanthara,VijaySethupathi,DeepikaPadukone revenge,chase,suicide,farmer,train,injustice,police,promise,prison,doctor,showdown,society,battle,fight,highoctane,vigilantejustice,fathersonrelationship,sceneduringendcredits,songduringendcredits,finalbattle,dualrole,hijack,womenempowerment,husbandwiferelationship,mothersonrelationship,pregnantwoman,intermission,songanddance,motherdaughterrelationship,actionhero,actionviolence,brotherbrotherrelationship,memoryloss,dogkilled,murderofdog,stabbedwithapen,hangedtodeath,fatherdaughterrelationship,marriage,shotmultipletimes,vigilante,onepersonarmyaction,gunaction,gunbattle,shootout,corruption,suspense,deathofvillain,indestructible,killingmachine'"
      ]
     },
     "execution_count": 29,
     "metadata": {},
     "output_type": "execute_result"
    }
   ],
   "source": [
    "new_df['tags'][0]"
   ]
  },
  {
   "cell_type": "code",
   "execution_count": 30,
   "id": "be44b691-25e2-4469-af34-ba4df42ebe9b",
   "metadata": {},
   "outputs": [],
   "source": [
    "new_df['tags'] = new_df['tags'].str.replace(',', ' ')"
   ]
  },
  {
   "cell_type": "code",
   "execution_count": 31,
   "id": "b18b1a05-94ae-4e0c-adae-3812e5ade99f",
   "metadata": {},
   "outputs": [
    {
     "data": {
      "text/plain": [
       "'A high-octane action thriller which outlines the emotional journey of a man who is set to rectify the wrongs in the society. Action Thriller Atlee ShahRukhKhan Nayanthara VijaySethupathi DeepikaPadukone revenge chase suicide farmer train injustice police promise prison doctor showdown society battle fight highoctane vigilantejustice fathersonrelationship sceneduringendcredits songduringendcredits finalbattle dualrole hijack womenempowerment husbandwiferelationship mothersonrelationship pregnantwoman intermission songanddance motherdaughterrelationship actionhero actionviolence brotherbrotherrelationship memoryloss dogkilled murderofdog stabbedwithapen hangedtodeath fatherdaughterrelationship marriage shotmultipletimes vigilante onepersonarmyaction gunaction gunbattle shootout corruption suspense deathofvillain indestructible killingmachine'"
      ]
     },
     "execution_count": 31,
     "metadata": {},
     "output_type": "execute_result"
    }
   ],
   "source": [
    "new_df['tags'][0]"
   ]
  },
  {
   "cell_type": "code",
   "execution_count": null,
   "id": "31d10def-85e8-451c-9fde-e9b76f5c8749",
   "metadata": {},
   "outputs": [],
   "source": []
  },
  {
   "cell_type": "code",
   "execution_count": null,
   "id": "cd794af9-9f7f-4237-8816-781e67707961",
   "metadata": {},
   "outputs": [],
   "source": []
  },
  {
   "cell_type": "code",
   "execution_count": 32,
   "id": "ffdf53be-f73a-426e-892f-bc244fe964a8",
   "metadata": {},
   "outputs": [],
   "source": [
    "from sklearn.feature_extraction.text import CountVectorizer\n",
    "cv = CountVectorizer(max_features=5000,stop_words='english')\n"
   ]
  },
  {
   "cell_type": "code",
   "execution_count": 33,
   "id": "5d1304a6-43fe-498d-95fc-d2683606e029",
   "metadata": {},
   "outputs": [],
   "source": [
    "vector = cv.fit_transform(new_df['tags']).toarray()"
   ]
  },
  {
   "cell_type": "code",
   "execution_count": 34,
   "id": "795b1bbf-7f70-44c7-913c-71f0dec15bd5",
   "metadata": {},
   "outputs": [
    {
     "data": {
      "text/plain": [
       "array([[0, 0, 0, ..., 0, 0, 0],\n",
       "       [0, 0, 0, ..., 0, 0, 0],\n",
       "       [0, 0, 0, ..., 0, 0, 0],\n",
       "       ...,\n",
       "       [0, 0, 0, ..., 0, 0, 0],\n",
       "       [0, 0, 0, ..., 0, 0, 0],\n",
       "       [0, 0, 0, ..., 0, 0, 0]], dtype=int64)"
      ]
     },
     "execution_count": 34,
     "metadata": {},
     "output_type": "execute_result"
    }
   ],
   "source": [
    "vector"
   ]
  },
  {
   "cell_type": "code",
   "execution_count": 35,
   "id": "1ce31adf-6253-4fe8-ab66-c6a72973eb32",
   "metadata": {},
   "outputs": [
    {
     "data": {
      "text/plain": [
       "(3976, 5000)"
      ]
     },
     "execution_count": 35,
     "metadata": {},
     "output_type": "execute_result"
    }
   ],
   "source": [
    "vector.shape"
   ]
  },
  {
   "cell_type": "code",
   "execution_count": 36,
   "id": "b8247df4-9e41-40fa-99bd-e9a9f534e28b",
   "metadata": {},
   "outputs": [],
   "source": [
    "from sklearn.metrics.pairwise import cosine_similarity"
   ]
  },
  {
   "cell_type": "code",
   "execution_count": 37,
   "id": "5fae3cd1-d415-4a02-bad2-1a228bb1ba82",
   "metadata": {},
   "outputs": [],
   "source": [
    "similarity = cosine_similarity(vector)"
   ]
  },
  {
   "cell_type": "code",
   "execution_count": 38,
   "id": "c46ebf8d-d444-45f2-a394-822bb4847fb1",
   "metadata": {},
   "outputs": [
    {
     "data": {
      "text/plain": [
       "array([[1.        , 0.04716666, 0.19200614, ..., 0.        , 0.        ,\n",
       "        0.02178034],\n",
       "       [0.04716666, 1.        , 0.07018624, ..., 0.        , 0.04376881,\n",
       "        0.03184649],\n",
       "       [0.19200614, 0.07018624, 1.        , ..., 0.        , 0.        ,\n",
       "        0.03241019],\n",
       "       ...,\n",
       "       [0.        , 0.        , 0.        , ..., 1.        , 0.12598816,\n",
       "        0.09166985],\n",
       "       [0.        , 0.04376881, 0.        , ..., 0.12598816, 1.        ,\n",
       "        0.16169042],\n",
       "       [0.02178034, 0.03184649, 0.03241019, ..., 0.09166985, 0.16169042,\n",
       "        1.        ]])"
      ]
     },
     "execution_count": 38,
     "metadata": {},
     "output_type": "execute_result"
    }
   ],
   "source": [
    "similarity"
   ]
  },
  {
   "cell_type": "code",
   "execution_count": 39,
   "id": "9ecc6502-fc1e-47fc-a94b-2a83dbd4a8a3",
   "metadata": {},
   "outputs": [
    {
     "name": "stdout",
     "output_type": "stream",
     "text": [
      "[[1.         0.04716666 0.19200614 ... 0.         0.         0.02178034]\n",
      " [0.04716666 1.         0.07018624 ... 0.         0.04376881 0.03184649]\n",
      " [0.19200614 0.07018624 1.         ... 0.         0.         0.03241019]\n",
      " ...\n",
      " [0.         0.         0.         ... 1.         0.12598816 0.09166985]\n",
      " [0.         0.04376881 0.         ... 0.12598816 1.         0.16169042]\n",
      " [0.02178034 0.03184649 0.03241019 ... 0.09166985 0.16169042 1.        ]]\n"
     ]
    }
   ],
   "source": [
    "print(similarity)"
   ]
  },
  {
   "cell_type": "code",
   "execution_count": 46,
   "id": "ad5b776b-a8f0-4c6c-818b-1ce8fc987ce5",
   "metadata": {},
   "outputs": [],
   "source": [
    "def recommend(movie):\n",
    "    index = new_df[new_df['movie_name'] == movie].index[0]\n",
    "    distances = sorted(list(enumerate(similarity[index])),reverse=True,key = lambda x: x[1])\n",
    "    for i in distances[0:20]:\n",
    "        # if i[1] >= 0.3:\n",
    "            print(new_df.iloc[i[0]].movie_name)      "
   ]
  },
  {
   "cell_type": "code",
   "execution_count": 47,
   "id": "3701b7e3-9fff-4dba-98c1-9464c88cb3eb",
   "metadata": {
    "scrolled": true
   },
   "outputs": [
    {
     "name": "stdout",
     "output_type": "stream",
     "text": [
      "Kachche Dhaage\n",
      "Anwar\n",
      "Pukar\n",
      "Kurbaan\n",
      "Zameen\n",
      "Badal\n",
      "Tumko Na Bhool Paayenge\n",
      "Dus\n",
      "Faraaz\n",
      "Operation Fryday\n",
      "Killer - The Hunt\n",
      "Footpath\n",
      "Phantom\n",
      "Karma Strikes\n",
      "Code Name: Tiranga\n",
      "Martin\n",
      "Khakee\n",
      "Refugee\n",
      "Khuda Gawah\n",
      "Yodha\n"
     ]
    }
   ],
   "source": [
    "recommend('Kachche Dhaage')"
   ]
  },
  {
   "cell_type": "code",
   "execution_count": 44,
   "id": "ec97a159-c746-4f50-aef5-4dfb92e9b224",
   "metadata": {},
   "outputs": [
    {
     "data": {
      "text/html": [
       "<div>\n",
       "<style scoped>\n",
       "    .dataframe tbody tr th:only-of-type {\n",
       "        vertical-align: middle;\n",
       "    }\n",
       "\n",
       "    .dataframe tbody tr th {\n",
       "        vertical-align: top;\n",
       "    }\n",
       "\n",
       "    .dataframe thead th {\n",
       "        text-align: right;\n",
       "    }\n",
       "</style>\n",
       "<table border=\"1\" class=\"dataframe\">\n",
       "  <thead>\n",
       "    <tr style=\"text-align: right;\">\n",
       "      <th></th>\n",
       "      <th>movie_id</th>\n",
       "      <th>movie_name</th>\n",
       "      <th>year</th>\n",
       "      <th>movie_id2</th>\n",
       "      <th>tags</th>\n",
       "    </tr>\n",
       "  </thead>\n",
       "  <tbody>\n",
       "    <tr>\n",
       "      <th>18</th>\n",
       "      <td>tt27542289</td>\n",
       "      <td>Por Thozhil</td>\n",
       "      <td>2023</td>\n",
       "      <td>27542289</td>\n",
       "      <td>A bright but faint-hearted rookie cop has to o...</td>\n",
       "    </tr>\n",
       "    <tr>\n",
       "      <th>852</th>\n",
       "      <td>tt13364468</td>\n",
       "      <td>Love Hostel</td>\n",
       "      <td>2022</td>\n",
       "      <td>13364468</td>\n",
       "      <td>Set against the pulsating backdrop of rustic N...</td>\n",
       "    </tr>\n",
       "    <tr>\n",
       "      <th>1888</th>\n",
       "      <td>tt5637188</td>\n",
       "      <td>Saat Uchakkey</td>\n",
       "      <td>2016</td>\n",
       "      <td>5637188</td>\n",
       "      <td>SAAT UCHAKKEY is a comedy caper about 7 petty ...</td>\n",
       "    </tr>\n",
       "    <tr>\n",
       "      <th>3111</th>\n",
       "      <td>tt33058313</td>\n",
       "      <td>Manmayi</td>\n",
       "      <td>2024</td>\n",
       "      <td>33058313</td>\n",
       "      <td>Unknown unknown PuluguRamakrishnaReddy NehalGa...</td>\n",
       "    </tr>\n",
       "    <tr>\n",
       "      <th>1233</th>\n",
       "      <td>tt17320574</td>\n",
       "      <td>Acting Ka Bhoot</td>\n",
       "      <td>2023</td>\n",
       "      <td>17320574</td>\n",
       "      <td>Two Con Artists with shattered lives and dream...</td>\n",
       "    </tr>\n",
       "    <tr>\n",
       "      <th>46</th>\n",
       "      <td>tt4430212</td>\n",
       "      <td>Drishyam</td>\n",
       "      <td>2015</td>\n",
       "      <td>4430212</td>\n",
       "      <td>Desperate measures are taken by a man who trie...</td>\n",
       "    </tr>\n",
       "    <tr>\n",
       "      <th>2782</th>\n",
       "      <td>tt14045080</td>\n",
       "      <td>KTM</td>\n",
       "      <td>2024</td>\n",
       "      <td>14045080</td>\n",
       "      <td>Karthik seeks love through several attempts. W...</td>\n",
       "    </tr>\n",
       "    <tr>\n",
       "      <th>1396</th>\n",
       "      <td>tt0225961</td>\n",
       "      <td>Hum Dono</td>\n",
       "      <td>1961</td>\n",
       "      <td>225961</td>\n",
       "      <td>When an army officer is presumed dead in battl...</td>\n",
       "    </tr>\n",
       "    <tr>\n",
       "      <th>3808</th>\n",
       "      <td>tt30801353</td>\n",
       "      <td>Prem No Padkar</td>\n",
       "      <td>2024</td>\n",
       "      <td>30801353</td>\n",
       "      <td>Unknown Drama SatruganGauswami HituKanodia Mam...</td>\n",
       "    </tr>\n",
       "    <tr>\n",
       "      <th>1028</th>\n",
       "      <td>tt0206067</td>\n",
       "      <td>Kachche Dhaage</td>\n",
       "      <td>1999</td>\n",
       "      <td>206067</td>\n",
       "      <td>Two stepbrothers who loathe each other have to...</td>\n",
       "    </tr>\n",
       "  </tbody>\n",
       "</table>\n",
       "</div>"
      ],
      "text/plain": [
       "        movie_id       movie_name  year  movie_id2  \\\n",
       "18    tt27542289      Por Thozhil  2023   27542289   \n",
       "852   tt13364468      Love Hostel  2022   13364468   \n",
       "1888   tt5637188    Saat Uchakkey  2016    5637188   \n",
       "3111  tt33058313          Manmayi  2024   33058313   \n",
       "1233  tt17320574  Acting Ka Bhoot  2023   17320574   \n",
       "46     tt4430212         Drishyam  2015    4430212   \n",
       "2782  tt14045080              KTM  2024   14045080   \n",
       "1396   tt0225961         Hum Dono  1961     225961   \n",
       "3808  tt30801353   Prem No Padkar  2024   30801353   \n",
       "1028   tt0206067   Kachche Dhaage  1999     206067   \n",
       "\n",
       "                                                   tags  \n",
       "18    A bright but faint-hearted rookie cop has to o...  \n",
       "852   Set against the pulsating backdrop of rustic N...  \n",
       "1888  SAAT UCHAKKEY is a comedy caper about 7 petty ...  \n",
       "3111  Unknown unknown PuluguRamakrishnaReddy NehalGa...  \n",
       "1233  Two Con Artists with shattered lives and dream...  \n",
       "46    Desperate measures are taken by a man who trie...  \n",
       "2782  Karthik seeks love through several attempts. W...  \n",
       "1396  When an army officer is presumed dead in battl...  \n",
       "3808  Unknown Drama SatruganGauswami HituKanodia Mam...  \n",
       "1028  Two stepbrothers who loathe each other have to...  "
      ]
     },
     "execution_count": 44,
     "metadata": {},
     "output_type": "execute_result"
    }
   ],
   "source": [
    "new_df.sample(10)"
   ]
  },
  {
   "cell_type": "code",
   "execution_count": 61,
   "id": "e593bc7b-fa1c-4d08-964d-fbaf9e6d3951",
   "metadata": {},
   "outputs": [],
   "source": [
    "# filtered =new_df[new_df['year'] > 2020]"
   ]
  },
  {
   "cell_type": "code",
   "execution_count": 62,
   "id": "59df8b85-757e-4b07-9c27-8ada3a135876",
   "metadata": {},
   "outputs": [],
   "source": [
    "# filtered.sample(5)"
   ]
  },
  {
   "cell_type": "code",
   "execution_count": 63,
   "id": "b99113cf-574c-4f51-9401-3265105ef5c0",
   "metadata": {},
   "outputs": [],
   "source": [
    "# new_df[\"movie_id\"].duplicated().dropna()"
   ]
  },
  {
   "cell_type": "code",
   "execution_count": 64,
   "id": "8f2b21d5-e4a5-499f-9227-056ba264154f",
   "metadata": {},
   "outputs": [],
   "source": [
    "# new_df[\"movie_id\"].duplicated().sum()"
   ]
  },
  {
   "cell_type": "code",
   "execution_count": 42,
   "id": "4b96a504-5e60-446d-b0f7-0106f7720299",
   "metadata": {},
   "outputs": [],
   "source": [
    "pickle.dump(new_df,open('movie_list.pkl','wb'))\n",
    "pickle.dump(similarity,open('similarity.pkl','wb'))"
   ]
  },
  {
   "cell_type": "code",
   "execution_count": null,
   "id": "83b76ac5-ef4b-4b22-8b46-2187ae877845",
   "metadata": {},
   "outputs": [],
   "source": []
  },
  {
   "cell_type": "code",
   "execution_count": null,
   "id": "780007b0-ea27-4f59-a2a8-12478275ae6d",
   "metadata": {},
   "outputs": [],
   "source": []
  },
  {
   "cell_type": "code",
   "execution_count": null,
   "id": "0a9aa958-98cd-43ea-984b-0f15eda6ec27",
   "metadata": {},
   "outputs": [],
   "source": []
  },
  {
   "cell_type": "code",
   "execution_count": null,
   "id": "e9a7062c-0769-459d-8a08-62a0d5146c19",
   "metadata": {},
   "outputs": [],
   "source": []
  }
 ],
 "metadata": {
  "kernelspec": {
   "display_name": "Python 3 (ipykernel)",
   "language": "python",
   "name": "python3"
  },
  "language_info": {
   "codemirror_mode": {
    "name": "ipython",
    "version": 3
   },
   "file_extension": ".py",
   "mimetype": "text/x-python",
   "name": "python",
   "nbconvert_exporter": "python",
   "pygments_lexer": "ipython3",
   "version": "3.12.5"
  }
 },
 "nbformat": 4,
 "nbformat_minor": 5
}
