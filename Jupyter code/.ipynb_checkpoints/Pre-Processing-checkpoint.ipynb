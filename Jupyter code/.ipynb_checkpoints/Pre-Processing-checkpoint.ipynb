{
 "cells": [
  {
   "cell_type": "code",
   "execution_count": 420,
   "id": "a666bbba-2ef7-4ad8-8d93-fd39c2cfa4c2",
   "metadata": {},
   "outputs": [],
   "source": [
    "import pandas as pd\n",
    "import requests\n",
    "import re\n",
    "import numpy as np\n",
    "import ast"
   ]
  },
  {
   "cell_type": "code",
   "execution_count": 421,
   "id": "37fe4638-dd93-41c8-b2d6-e60362a2978d",
   "metadata": {},
   "outputs": [],
   "source": [
    "# new_df = pd.read_csv('IMDB-Movie-Dataset(2023-1951).csv',index_col=0)\n",
    "# new_df2=pd.read_csv('Processed_2024_updated.csv',index_col=0)"
   ]
  },
  {
   "cell_type": "code",
   "execution_count": 422,
   "id": "26375208-7c9d-4228-9a0c-06edcdcd029e",
   "metadata": {},
   "outputs": [],
   "source": [
    "new_df = pd.read_csv(\"final_movie_dataset_with_keyword.csv\", index_col=0)"
   ]
  },
  {
   "cell_type": "code",
   "execution_count": 423,
   "id": "8ac0d889-ce36-46d9-a23e-e646f3195433",
   "metadata": {},
   "outputs": [
    {
     "data": {
      "text/html": [
       "<div>\n",
       "<style scoped>\n",
       "    .dataframe tbody tr th:only-of-type {\n",
       "        vertical-align: middle;\n",
       "    }\n",
       "\n",
       "    .dataframe tbody tr th {\n",
       "        vertical-align: top;\n",
       "    }\n",
       "\n",
       "    .dataframe thead th {\n",
       "        text-align: right;\n",
       "    }\n",
       "</style>\n",
       "<table border=\"1\" class=\"dataframe\">\n",
       "  <thead>\n",
       "    <tr style=\"text-align: right;\">\n",
       "      <th></th>\n",
       "      <th>movie_id</th>\n",
       "      <th>movie_name</th>\n",
       "      <th>year</th>\n",
       "      <th>genre</th>\n",
       "      <th>overview</th>\n",
       "      <th>director</th>\n",
       "      <th>cast</th>\n",
       "      <th>movie_id2</th>\n",
       "      <th>Keywords</th>\n",
       "    </tr>\n",
       "  </thead>\n",
       "  <tbody>\n",
       "    <tr>\n",
       "      <th>2211</th>\n",
       "      <td>tt27995594</td>\n",
       "      <td>Munjya</td>\n",
       "      <td>2024.0</td>\n",
       "      <td>Comedy, Horror</td>\n",
       "      <td>A young man's visit to his native village unve...</td>\n",
       "      <td>Aditya Sarpotdar</td>\n",
       "      <td>Sharvari, Abhay Verma, Mona Singh, Sathyaraj, ...</td>\n",
       "      <td>27995594</td>\n",
       "      <td>haunted tree, folklore, maddock supernatural u...</td>\n",
       "    </tr>\n",
       "    <tr>\n",
       "      <th>2870</th>\n",
       "      <td>tt33088719</td>\n",
       "      <td>Hide N Seek</td>\n",
       "      <td>2024.0</td>\n",
       "      <td>Horror</td>\n",
       "      <td>Vaishnavi, a determined investigator, discover...</td>\n",
       "      <td>Basireddy Rana</td>\n",
       "      <td>Viswant Duddumpudi, Sainath Garimella, Kasvi, ...</td>\n",
       "      <td>33088719</td>\n",
       "      <td>NaN</td>\n",
       "    </tr>\n",
       "    <tr>\n",
       "      <th>3045</th>\n",
       "      <td>tt14783682</td>\n",
       "      <td>Matinee</td>\n",
       "      <td>2024.0</td>\n",
       "      <td>Thriller</td>\n",
       "      <td>Arun owns a property in Bangalore where he inv...</td>\n",
       "      <td>Manohar Kaampalli</td>\n",
       "      <td>Nagabhushana, Sathish Neenasam, Shivraj K R Pe...</td>\n",
       "      <td>14783682</td>\n",
       "      <td>NaN</td>\n",
       "    </tr>\n",
       "    <tr>\n",
       "      <th>2932</th>\n",
       "      <td>tt33265241</td>\n",
       "      <td>Shiva Ke Ram Bhoomi</td>\n",
       "      <td>2024.0</td>\n",
       "      <td>Action, Romance</td>\n",
       "      <td>Shiva stands as a steadfast protector of his B...</td>\n",
       "      <td>Bijender Soni</td>\n",
       "      <td>Vicky Kajla, Priyanka Sharma, Vijay Varma, Nee...</td>\n",
       "      <td>33265241</td>\n",
       "      <td>NaN</td>\n",
       "    </tr>\n",
       "    <tr>\n",
       "      <th>287</th>\n",
       "      <td>tt1230448</td>\n",
       "      <td>Billu</td>\n",
       "      <td>2009</td>\n",
       "      <td>Comedy, Drama</td>\n",
       "      <td>In an Indian village, a struggling barber sees...</td>\n",
       "      <td>Priyadarshan</td>\n",
       "      <td>Irrfan Khan, Lara Dutta, Om Puri, Govardhan As...</td>\n",
       "      <td>1230448</td>\n",
       "      <td>barber, character name as title, one word title</td>\n",
       "    </tr>\n",
       "  </tbody>\n",
       "</table>\n",
       "</div>"
      ],
      "text/plain": [
       "        movie_id           movie_name    year            genre  \\\n",
       "2211  tt27995594               Munjya  2024.0   Comedy, Horror   \n",
       "2870  tt33088719          Hide N Seek  2024.0           Horror   \n",
       "3045  tt14783682              Matinee  2024.0         Thriller   \n",
       "2932  tt33265241  Shiva Ke Ram Bhoomi  2024.0  Action, Romance   \n",
       "287    tt1230448                Billu    2009    Comedy, Drama   \n",
       "\n",
       "                                               overview           director  \\\n",
       "2211  A young man's visit to his native village unve...   Aditya Sarpotdar   \n",
       "2870  Vaishnavi, a determined investigator, discover...     Basireddy Rana   \n",
       "3045  Arun owns a property in Bangalore where he inv...  Manohar Kaampalli   \n",
       "2932  Shiva stands as a steadfast protector of his B...      Bijender Soni   \n",
       "287   In an Indian village, a struggling barber sees...       Priyadarshan   \n",
       "\n",
       "                                                   cast  movie_id2  \\\n",
       "2211  Sharvari, Abhay Verma, Mona Singh, Sathyaraj, ...   27995594   \n",
       "2870  Viswant Duddumpudi, Sainath Garimella, Kasvi, ...   33088719   \n",
       "3045  Nagabhushana, Sathish Neenasam, Shivraj K R Pe...   14783682   \n",
       "2932  Vicky Kajla, Priyanka Sharma, Vijay Varma, Nee...   33265241   \n",
       "287   Irrfan Khan, Lara Dutta, Om Puri, Govardhan As...    1230448   \n",
       "\n",
       "                                               Keywords  \n",
       "2211  haunted tree, folklore, maddock supernatural u...  \n",
       "2870                                                NaN  \n",
       "3045                                                NaN  \n",
       "2932                                                NaN  \n",
       "287     barber, character name as title, one word title  "
      ]
     },
     "execution_count": 423,
     "metadata": {},
     "output_type": "execute_result"
    }
   ],
   "source": [
    "new_df.sample(5)"
   ]
  },
  {
   "cell_type": "code",
   "execution_count": 424,
   "id": "fe39a1a4-5c94-461f-84a7-dc9aba5b1026",
   "metadata": {},
   "outputs": [
    {
     "data": {
      "text/plain": [
       "(4031, 9)"
      ]
     },
     "execution_count": 424,
     "metadata": {},
     "output_type": "execute_result"
    }
   ],
   "source": [
    "new_df.shape"
   ]
  },
  {
   "cell_type": "code",
   "execution_count": 425,
   "id": "dc8f7fb6-9565-4d8a-bb10-82bb3560a7c7",
   "metadata": {},
   "outputs": [
    {
     "data": {
      "text/plain": [
       "(4031, 4)"
      ]
     },
     "execution_count": 425,
     "metadata": {},
     "output_type": "execute_result"
    }
   ],
   "source": [
    "new_df2.shape"
   ]
  },
  {
   "cell_type": "code",
   "execution_count": 426,
   "id": "d4e3863a-15e1-4666-92a5-64235be9a44b",
   "metadata": {},
   "outputs": [
    {
     "data": {
      "text/plain": [
       "np.int64(55)"
      ]
     },
     "execution_count": 426,
     "metadata": {},
     "output_type": "execute_result"
    }
   ],
   "source": [
    "new_df[\"movie_id\"].duplicated().sum()"
   ]
  },
  {
   "cell_type": "code",
   "execution_count": 427,
   "id": "b5a3f670-56cb-4068-b36d-ea93a56cf8cd",
   "metadata": {},
   "outputs": [],
   "source": [
    "new_df = new_df.drop_duplicates(subset='movie_id', keep='first')"
   ]
  },
  {
   "cell_type": "code",
   "execution_count": 428,
   "id": "62ea49f3-bd72-4dd2-91a9-b986efa26a82",
   "metadata": {},
   "outputs": [
    {
     "data": {
      "text/plain": [
       "np.int64(0)"
      ]
     },
     "execution_count": 428,
     "metadata": {},
     "output_type": "execute_result"
    }
   ],
   "source": [
    "new_df[\"movie_id\"].duplicated().sum()"
   ]
  },
  {
   "cell_type": "code",
   "execution_count": 429,
   "id": "422885bd-cb59-4d9e-94d6-fcf982ac9cff",
   "metadata": {},
   "outputs": [
    {
     "data": {
      "text/plain": [
       "movie_id         0\n",
       "movie_name       0\n",
       "year            65\n",
       "genre            0\n",
       "overview         0\n",
       "director         0\n",
       "cast             0\n",
       "movie_id2        0\n",
       "Keywords      1746\n",
       "dtype: int64"
      ]
     },
     "execution_count": 429,
     "metadata": {},
     "output_type": "execute_result"
    }
   ],
   "source": [
    "new_df.isnull().sum()"
   ]
  },
  {
   "cell_type": "code",
   "execution_count": 430,
   "id": "52ed1038-df0f-4c05-aad0-86d6d33cae27",
   "metadata": {},
   "outputs": [],
   "source": [
    "new_df[\"year\"]= new_df[\"year\"].replace(np.nan, \"Unknown\")\n",
    "new_df[\"Keywords\"]= new_df[\"Keywords\"].replace(np.nan, \"Unknown\")"
   ]
  },
  {
   "cell_type": "code",
   "execution_count": 431,
   "id": "c8bebbf5-d7e8-4ce1-903c-1a2fee18c1f1",
   "metadata": {},
   "outputs": [
    {
     "data": {
      "text/plain": [
       "movie_id      0\n",
       "movie_name    0\n",
       "year          0\n",
       "genre         0\n",
       "overview      0\n",
       "director      0\n",
       "cast          0\n",
       "movie_id2     0\n",
       "Keywords      0\n",
       "dtype: int64"
      ]
     },
     "execution_count": 431,
     "metadata": {},
     "output_type": "execute_result"
    }
   ],
   "source": [
    "new_df.isnull().sum()"
   ]
  },
  {
   "cell_type": "code",
   "execution_count": 432,
   "id": "3ccbb718-2691-4f6f-841e-3c8a42d19044",
   "metadata": {},
   "outputs": [
    {
     "data": {
      "text/plain": [
       "array(['2023', '2016', '2009', '2012', '2001', '2007', '2018', '2022',\n",
       "       '1982', '2014', '2010', '2017', '2015', '2024', '2004', '2011',\n",
       "       '1998', '2006', '2002', '2019', '2013', '2003', '2021', '1999',\n",
       "       '1995', '2008', '2020', '2000', '1975', 'Unknown', '1993', '1994',\n",
       "       '2025', '2005', '1997', '1967', '1992', 'XV2016', '1991', '1965',\n",
       "       '1988', '1970', '1957', '1956', '1990', 'V2020', '1983', '1996',\n",
       "       '1987', '1959', 'X2020', '1981', '1978', '1989', 'V', '1972',\n",
       "       '1960', '1953', '1973', '1966', '1955', '1984', '1964', '1962',\n",
       "       '1977', '1971', '1985', '1980', '2026', '1976', '1958', '1986',\n",
       "       'X', '1974', '1932', '1969', '1979', '1961', '1968', 'V2023',\n",
       "       '1951', '1954', 'XXX', 'XXV', '1963', '2024.0'], dtype=object)"
      ]
     },
     "execution_count": 432,
     "metadata": {},
     "output_type": "execute_result"
    }
   ],
   "source": [
    "new_df['year'].unique()"
   ]
  },
  {
   "cell_type": "code",
   "execution_count": 433,
   "id": "1f127476-24dd-41e2-b07f-c12013ad0039",
   "metadata": {},
   "outputs": [
    {
     "data": {
      "text/plain": [
       "np.int64(3976)"
      ]
     },
     "execution_count": 433,
     "metadata": {},
     "output_type": "execute_result"
    }
   ],
   "source": [
    "new_df['year'].value_counts().sum()"
   ]
  },
  {
   "cell_type": "code",
   "execution_count": 434,
   "id": "7ef8d26c-e8a2-4393-8647-cb14a8a7c03b",
   "metadata": {},
   "outputs": [],
   "source": [
    "def remove_alpha_or_nan(year):\n",
    "    # Use regular expression to remove all alphabetic characters\n",
    "    cleaned_year = re.sub(r'[A-Za-z]', '', year)\n",
    "    \n",
    "    # If the result is an empty string, return NaN\n",
    "    if cleaned_year == '':\n",
    "        return 0\n",
    "    return cleaned_year"
   ]
  },
  {
   "cell_type": "code",
   "execution_count": 435,
   "id": "e8d37f25-2d1f-49b1-93a2-f299f5e12232",
   "metadata": {},
   "outputs": [],
   "source": [
    "new_df['year'] = new_df['year'].astype(str).apply(remove_alpha_or_nan)"
   ]
  },
  {
   "cell_type": "code",
   "execution_count": 436,
   "id": "2565beaa-ab1d-490d-b7d9-dbdd4a7a7039",
   "metadata": {},
   "outputs": [
    {
     "data": {
      "text/plain": [
       "array(['2023', '2016', '2009', '2012', '2001', '2007', '2018', '2022',\n",
       "       '1982', '2014', '2010', '2017', '2015', '2024', '2004', '2011',\n",
       "       '1998', '2006', '2002', '2019', '2013', '2003', '2021', '1999',\n",
       "       '1995', '2008', '2020', '2000', '1975', 0, '1993', '1994', '2025',\n",
       "       '2005', '1997', '1967', '1992', '1991', '1965', '1988', '1970',\n",
       "       '1957', '1956', '1990', '1983', '1996', '1987', '1959', '1981',\n",
       "       '1978', '1989', '1972', '1960', '1953', '1973', '1966', '1955',\n",
       "       '1984', '1964', '1962', '1977', '1971', '1985', '1980', '2026',\n",
       "       '1976', '1958', '1986', '1974', '1932', '1969', '1979', '1961',\n",
       "       '1968', '1951', '1954', '1963', '2024.0'], dtype=object)"
      ]
     },
     "execution_count": 436,
     "metadata": {},
     "output_type": "execute_result"
    }
   ],
   "source": [
    "new_df['year'].unique()"
   ]
  },
  {
   "cell_type": "code",
   "execution_count": 437,
   "id": "f65804c9-ec74-4aab-a47e-771fd288cca1",
   "metadata": {},
   "outputs": [
    {
     "data": {
      "text/plain": [
       "array(['2023', '2023', '2023', ..., '2024.0', '2024.0', '2024.0'],\n",
       "      dtype=object)"
      ]
     },
     "execution_count": 437,
     "metadata": {},
     "output_type": "execute_result"
    }
   ],
   "source": [
    "new_df['year'].values"
   ]
  },
  {
   "cell_type": "code",
   "execution_count": 438,
   "id": "b7ec0606-2459-441f-9a0e-4e0d419fec86",
   "metadata": {},
   "outputs": [],
   "source": [
    "new_df['year'] = new_df['year'].astype(float)"
   ]
  },
  {
   "cell_type": "code",
   "execution_count": 439,
   "id": "4d15d1fa-3e7e-4e90-ad07-a03481d63bcf",
   "metadata": {},
   "outputs": [],
   "source": [
    "new_df['year'] = new_df['year'].astype(int)"
   ]
  },
  {
   "cell_type": "code",
   "execution_count": 440,
   "id": "955927ac-feeb-4262-830f-f34326346e21",
   "metadata": {},
   "outputs": [
    {
     "data": {
      "text/plain": [
       "movie_id      object\n",
       "movie_name    object\n",
       "year           int64\n",
       "genre         object\n",
       "overview      object\n",
       "director      object\n",
       "cast          object\n",
       "movie_id2      int64\n",
       "Keywords      object\n",
       "dtype: object"
      ]
     },
     "execution_count": 440,
     "metadata": {},
     "output_type": "execute_result"
    }
   ],
   "source": [
    "new_df.dtypes"
   ]
  },
  {
   "cell_type": "code",
   "execution_count": 441,
   "id": "67f54a37-cc0f-4b97-afc9-7dcdb638d88d",
   "metadata": {},
   "outputs": [],
   "source": [
    "new_df['cast'] = new_df['cast'].str.replace(' ', '')\n",
    "new_df['genre'] = new_df['genre'].str.replace(' ', '')\n",
    "new_df['director'] = new_df['director'].str.replace(' ', '')\n",
    "new_df['Keywords'] = new_df['Keywords'].str.replace(' ', '')"
   ]
  },
  {
   "cell_type": "code",
   "execution_count": 442,
   "id": "d453db6c-2668-46ed-9a93-b3616990a56a",
   "metadata": {},
   "outputs": [
    {
     "data": {
      "text/plain": [
       "0       [A, high-octane, action, thriller, which, outl...\n",
       "1       [A, single, mother, and, her, daughter, who, c...\n",
       "2       [A, retired, jailer, goes, on, a, manhunt, to,...\n",
       "3       [Flamboyant, Punjabi, Rocky, and, intellectual...\n",
       "4       [An, unhappy, civilian, asks, the, court, to, ...\n",
       "                              ...                        \n",
       "4026    [A, young, worker's, epic, bicycle, journey, h...\n",
       "4027                                            [Unknown]\n",
       "4028                                            [Unknown]\n",
       "4029    ['Satchi, Perumal', with, the, main, lead, Per...\n",
       "4030    [This, is, a, story, of, a, young, man, boy, n...\n",
       "Name: overview, Length: 3976, dtype: object"
      ]
     },
     "execution_count": 442,
     "metadata": {},
     "output_type": "execute_result"
    }
   ],
   "source": [
    "new_df['overview'] = new_df['overview'].apply(lambda x:x.split())\n",
    "new_df['overview']"
   ]
  },
  {
   "cell_type": "code",
   "execution_count": 443,
   "id": "7451fdc9-ff9b-4d8b-aaf9-6896854d51dc",
   "metadata": {},
   "outputs": [],
   "source": [
    "new_df['genre'] = new_df['genre'].apply(lambda x:x.split())\n",
    "new_df['director'] = new_df['director'].apply(lambda x:x.split())\n",
    "new_df['cast'] = new_df['cast'].apply(lambda x:x.split())\n",
    "new_df['Keywords'] = new_df['Keywords'].apply(lambda x:x.split())"
   ]
  },
  {
   "cell_type": "code",
   "execution_count": 445,
   "id": "6febfc61-6a1f-4d83-b36e-d001e655d2e7",
   "metadata": {},
   "outputs": [
    {
     "data": {
      "text/html": [
       "<div>\n",
       "<style scoped>\n",
       "    .dataframe tbody tr th:only-of-type {\n",
       "        vertical-align: middle;\n",
       "    }\n",
       "\n",
       "    .dataframe tbody tr th {\n",
       "        vertical-align: top;\n",
       "    }\n",
       "\n",
       "    .dataframe thead th {\n",
       "        text-align: right;\n",
       "    }\n",
       "</style>\n",
       "<table border=\"1\" class=\"dataframe\">\n",
       "  <thead>\n",
       "    <tr style=\"text-align: right;\">\n",
       "      <th></th>\n",
       "      <th>movie_id</th>\n",
       "      <th>movie_name</th>\n",
       "      <th>year</th>\n",
       "      <th>genre</th>\n",
       "      <th>overview</th>\n",
       "      <th>director</th>\n",
       "      <th>cast</th>\n",
       "      <th>movie_id2</th>\n",
       "      <th>Keywords</th>\n",
       "    </tr>\n",
       "  </thead>\n",
       "  <tbody>\n",
       "    <tr>\n",
       "      <th>874</th>\n",
       "      <td>tt20319598</td>\n",
       "      <td>Lakadbaggha</td>\n",
       "      <td>2023</td>\n",
       "      <td>[Action,Comedy,Crime]</td>\n",
       "      <td>[An, animal, loving, vigilante, Arjun, Bakshi,...</td>\n",
       "      <td>[VictorMukherjee]</td>\n",
       "      <td>[AnshumanJha,RiddhiDogra,PareshPahuja,MilindSo...</td>\n",
       "      <td>20319598</td>\n",
       "      <td>[animal]</td>\n",
       "    </tr>\n",
       "    <tr>\n",
       "      <th>658</th>\n",
       "      <td>tt3823392</td>\n",
       "      <td>Love Sonia</td>\n",
       "      <td>2018</td>\n",
       "      <td>[Drama]</td>\n",
       "      <td>[Inspired, by, real, life, events,, Love, Soni...</td>\n",
       "      <td>[TabrezNoorani]</td>\n",
       "      <td>[AbhishekBharate,RiyaSisodiya,MrunalThakur,Adi...</td>\n",
       "      <td>3823392</td>\n",
       "      <td>[humantrafficking,sextrade,forcedintoprostitut...</td>\n",
       "    </tr>\n",
       "    <tr>\n",
       "      <th>442</th>\n",
       "      <td>tt1327035</td>\n",
       "      <td>Dev.D</td>\n",
       "      <td>2009</td>\n",
       "      <td>[Comedy,Drama,Romance]</td>\n",
       "      <td>[After, breaking, up, with, his, childhood, sw...</td>\n",
       "      <td>[AnuragKashyap]</td>\n",
       "      <td>[AbhayDeol,MahieGill,KalkiKoechlin,DibyenduBha...</td>\n",
       "      <td>1327035</td>\n",
       "      <td>[downwardspiral,indiansexcomedy,characterrepea...</td>\n",
       "    </tr>\n",
       "    <tr>\n",
       "      <th>630</th>\n",
       "      <td>tt1433905</td>\n",
       "      <td>All the Best: Fun Begins</td>\n",
       "      <td>2009</td>\n",
       "      <td>[Action,Comedy,Drama]</td>\n",
       "      <td>[The, unexpected, arrival, of, his, elder, NRI...</td>\n",
       "      <td>[RohitShetty]</td>\n",
       "      <td>[SanjayDutt,AjayDevgn,FardeenKhan,BipashaBasu]</td>\n",
       "      <td>1433905</td>\n",
       "      <td>[gangster,stepbrotherstepbrotherrelationship,s...</td>\n",
       "    </tr>\n",
       "    <tr>\n",
       "      <th>2898</th>\n",
       "      <td>tt32324185</td>\n",
       "      <td>Hoy Maharaja</td>\n",
       "      <td>2024</td>\n",
       "      <td>[unknown]</td>\n",
       "      <td>[A, conman, struggles, to, save, his, love, an...</td>\n",
       "      <td>[ShaileshShetty]</td>\n",
       "      <td>[AbhijeetChavan,SamirChoughule,SandeepJuwatkar...</td>\n",
       "      <td>32324185</td>\n",
       "      <td>[Unknown]</td>\n",
       "    </tr>\n",
       "  </tbody>\n",
       "</table>\n",
       "</div>"
      ],
      "text/plain": [
       "        movie_id                movie_name  year                   genre  \\\n",
       "874   tt20319598               Lakadbaggha  2023   [Action,Comedy,Crime]   \n",
       "658    tt3823392                Love Sonia  2018                 [Drama]   \n",
       "442    tt1327035                     Dev.D  2009  [Comedy,Drama,Romance]   \n",
       "630    tt1433905  All the Best: Fun Begins  2009   [Action,Comedy,Drama]   \n",
       "2898  tt32324185              Hoy Maharaja  2024               [unknown]   \n",
       "\n",
       "                                               overview           director  \\\n",
       "874   [An, animal, loving, vigilante, Arjun, Bakshi,...  [VictorMukherjee]   \n",
       "658   [Inspired, by, real, life, events,, Love, Soni...    [TabrezNoorani]   \n",
       "442   [After, breaking, up, with, his, childhood, sw...    [AnuragKashyap]   \n",
       "630   [The, unexpected, arrival, of, his, elder, NRI...      [RohitShetty]   \n",
       "2898  [A, conman, struggles, to, save, his, love, an...   [ShaileshShetty]   \n",
       "\n",
       "                                                   cast  movie_id2  \\\n",
       "874   [AnshumanJha,RiddhiDogra,PareshPahuja,MilindSo...   20319598   \n",
       "658   [AbhishekBharate,RiyaSisodiya,MrunalThakur,Adi...    3823392   \n",
       "442   [AbhayDeol,MahieGill,KalkiKoechlin,DibyenduBha...    1327035   \n",
       "630      [SanjayDutt,AjayDevgn,FardeenKhan,BipashaBasu]    1433905   \n",
       "2898  [AbhijeetChavan,SamirChoughule,SandeepJuwatkar...   32324185   \n",
       "\n",
       "                                               Keywords  \n",
       "874                                            [animal]  \n",
       "658   [humantrafficking,sextrade,forcedintoprostitut...  \n",
       "442   [downwardspiral,indiansexcomedy,characterrepea...  \n",
       "630   [gangster,stepbrotherstepbrotherrelationship,s...  \n",
       "2898                                          [Unknown]  "
      ]
     },
     "execution_count": 445,
     "metadata": {},
     "output_type": "execute_result"
    }
   ],
   "source": [
    "new_df.sample(5)"
   ]
  },
  {
   "cell_type": "code",
   "execution_count": 451,
   "id": "fe0547bd-7211-4ea0-82d9-65117332113e",
   "metadata": {},
   "outputs": [],
   "source": [
    "new_df['tags'] = new_df['overview'] + new_df['genre'] + new_df['director'] + new_df['cast'] + new_df[\"Keywords\"]"
   ]
  },
  {
   "cell_type": "code",
   "execution_count": 452,
   "id": "20fef0d9-cbc9-4e2b-88d8-51d9b7d97690",
   "metadata": {},
   "outputs": [],
   "source": [
    "new_df = new_df.drop(columns=['overview','genre','cast','director', 'Keywords'])"
   ]
  },
  {
   "cell_type": "code",
   "execution_count": 453,
   "id": "1da50a43-1032-4461-b349-2ec6e01a24fc",
   "metadata": {},
   "outputs": [
    {
     "data": {
      "text/html": [
       "<div>\n",
       "<style scoped>\n",
       "    .dataframe tbody tr th:only-of-type {\n",
       "        vertical-align: middle;\n",
       "    }\n",
       "\n",
       "    .dataframe tbody tr th {\n",
       "        vertical-align: top;\n",
       "    }\n",
       "\n",
       "    .dataframe thead th {\n",
       "        text-align: right;\n",
       "    }\n",
       "</style>\n",
       "<table border=\"1\" class=\"dataframe\">\n",
       "  <thead>\n",
       "    <tr style=\"text-align: right;\">\n",
       "      <th></th>\n",
       "      <th>movie_id</th>\n",
       "      <th>movie_name</th>\n",
       "      <th>year</th>\n",
       "      <th>movie_id2</th>\n",
       "      <th>tags</th>\n",
       "    </tr>\n",
       "  </thead>\n",
       "  <tbody>\n",
       "    <tr>\n",
       "      <th>0</th>\n",
       "      <td>tt15354916</td>\n",
       "      <td>Jawan</td>\n",
       "      <td>2023</td>\n",
       "      <td>15354916</td>\n",
       "      <td>[A, high-octane, action, thriller, which, outl...</td>\n",
       "    </tr>\n",
       "    <tr>\n",
       "      <th>1</th>\n",
       "      <td>tt15748830</td>\n",
       "      <td>Jaane Jaan</td>\n",
       "      <td>2023</td>\n",
       "      <td>15748830</td>\n",
       "      <td>[A, single, mother, and, her, daughter, who, c...</td>\n",
       "    </tr>\n",
       "    <tr>\n",
       "      <th>2</th>\n",
       "      <td>tt11663228</td>\n",
       "      <td>Jailer</td>\n",
       "      <td>2023</td>\n",
       "      <td>11663228</td>\n",
       "      <td>[A, retired, jailer, goes, on, a, manhunt, to,...</td>\n",
       "    </tr>\n",
       "    <tr>\n",
       "      <th>3</th>\n",
       "      <td>tt14993250</td>\n",
       "      <td>Rocky Aur Rani Kii Prem Kahaani</td>\n",
       "      <td>2023</td>\n",
       "      <td>14993250</td>\n",
       "      <td>[Flamboyant, Punjabi, Rocky, and, intellectual...</td>\n",
       "    </tr>\n",
       "    <tr>\n",
       "      <th>4</th>\n",
       "      <td>tt15732324</td>\n",
       "      <td>OMG 2</td>\n",
       "      <td>2023</td>\n",
       "      <td>15732324</td>\n",
       "      <td>[An, unhappy, civilian, asks, the, court, to, ...</td>\n",
       "    </tr>\n",
       "  </tbody>\n",
       "</table>\n",
       "</div>"
      ],
      "text/plain": [
       "     movie_id                       movie_name  year  movie_id2  \\\n",
       "0  tt15354916                            Jawan  2023   15354916   \n",
       "1  tt15748830                       Jaane Jaan  2023   15748830   \n",
       "2  tt11663228                           Jailer  2023   11663228   \n",
       "3  tt14993250  Rocky Aur Rani Kii Prem Kahaani  2023   14993250   \n",
       "4  tt15732324                            OMG 2  2023   15732324   \n",
       "\n",
       "                                                tags  \n",
       "0  [A, high-octane, action, thriller, which, outl...  \n",
       "1  [A, single, mother, and, her, daughter, who, c...  \n",
       "2  [A, retired, jailer, goes, on, a, manhunt, to,...  \n",
       "3  [Flamboyant, Punjabi, Rocky, and, intellectual...  \n",
       "4  [An, unhappy, civilian, asks, the, court, to, ...  "
      ]
     },
     "execution_count": 453,
     "metadata": {},
     "output_type": "execute_result"
    }
   ],
   "source": [
    "new_df.head()"
   ]
  },
  {
   "cell_type": "code",
   "execution_count": 454,
   "id": "0c1e8a33-db16-4cbf-aa28-c02aa7625690",
   "metadata": {},
   "outputs": [
    {
     "data": {
      "text/html": [
       "<div>\n",
       "<style scoped>\n",
       "    .dataframe tbody tr th:only-of-type {\n",
       "        vertical-align: middle;\n",
       "    }\n",
       "\n",
       "    .dataframe tbody tr th {\n",
       "        vertical-align: top;\n",
       "    }\n",
       "\n",
       "    .dataframe thead th {\n",
       "        text-align: right;\n",
       "    }\n",
       "</style>\n",
       "<table border=\"1\" class=\"dataframe\">\n",
       "  <thead>\n",
       "    <tr style=\"text-align: right;\">\n",
       "      <th></th>\n",
       "      <th>movie_id</th>\n",
       "      <th>movie_name</th>\n",
       "      <th>year</th>\n",
       "      <th>movie_id2</th>\n",
       "      <th>tags</th>\n",
       "    </tr>\n",
       "  </thead>\n",
       "  <tbody>\n",
       "    <tr>\n",
       "      <th>0</th>\n",
       "      <td>tt15354916</td>\n",
       "      <td>Jawan</td>\n",
       "      <td>2023</td>\n",
       "      <td>15354916</td>\n",
       "      <td>A high-octane action thriller which outlines t...</td>\n",
       "    </tr>\n",
       "    <tr>\n",
       "      <th>1</th>\n",
       "      <td>tt15748830</td>\n",
       "      <td>Jaane Jaan</td>\n",
       "      <td>2023</td>\n",
       "      <td>15748830</td>\n",
       "      <td>A single mother and her daughter who commit a ...</td>\n",
       "    </tr>\n",
       "    <tr>\n",
       "      <th>2</th>\n",
       "      <td>tt11663228</td>\n",
       "      <td>Jailer</td>\n",
       "      <td>2023</td>\n",
       "      <td>11663228</td>\n",
       "      <td>A retired jailer goes on a manhunt to find his...</td>\n",
       "    </tr>\n",
       "    <tr>\n",
       "      <th>3</th>\n",
       "      <td>tt14993250</td>\n",
       "      <td>Rocky Aur Rani Kii Prem Kahaani</td>\n",
       "      <td>2023</td>\n",
       "      <td>14993250</td>\n",
       "      <td>Flamboyant Punjabi Rocky and intellectual Beng...</td>\n",
       "    </tr>\n",
       "    <tr>\n",
       "      <th>4</th>\n",
       "      <td>tt15732324</td>\n",
       "      <td>OMG 2</td>\n",
       "      <td>2023</td>\n",
       "      <td>15732324</td>\n",
       "      <td>An unhappy civilian asks the court to mandate ...</td>\n",
       "    </tr>\n",
       "  </tbody>\n",
       "</table>\n",
       "</div>"
      ],
      "text/plain": [
       "     movie_id                       movie_name  year  movie_id2  \\\n",
       "0  tt15354916                            Jawan  2023   15354916   \n",
       "1  tt15748830                       Jaane Jaan  2023   15748830   \n",
       "2  tt11663228                           Jailer  2023   11663228   \n",
       "3  tt14993250  Rocky Aur Rani Kii Prem Kahaani  2023   14993250   \n",
       "4  tt15732324                            OMG 2  2023   15732324   \n",
       "\n",
       "                                                tags  \n",
       "0  A high-octane action thriller which outlines t...  \n",
       "1  A single mother and her daughter who commit a ...  \n",
       "2  A retired jailer goes on a manhunt to find his...  \n",
       "3  Flamboyant Punjabi Rocky and intellectual Beng...  \n",
       "4  An unhappy civilian asks the court to mandate ...  "
      ]
     },
     "execution_count": 454,
     "metadata": {},
     "output_type": "execute_result"
    }
   ],
   "source": [
    "new_df['tags'] = new_df['tags'].apply(lambda x: \" \".join(x))\n",
    "new_df.head()"
   ]
  },
  {
   "cell_type": "code",
   "execution_count": 455,
   "id": "d1ba51a8-4043-46d3-b62e-296bc239e4fe",
   "metadata": {},
   "outputs": [
    {
     "data": {
      "text/plain": [
       "'A high-octane action thriller which outlines the emotional journey of a man who is set to rectify the wrongs in the society. Action,Thriller Atlee ShahRukhKhan,Nayanthara,VijaySethupathi,DeepikaPadukone revenge,chase,suicide,farmer,train,injustice,police,promise,prison,doctor,showdown,society,battle,fight,highoctane,vigilantejustice,fathersonrelationship,sceneduringendcredits,songduringendcredits,finalbattle,dualrole,hijack,womenempowerment,husbandwiferelationship,mothersonrelationship,pregnantwoman,intermission,songanddance,motherdaughterrelationship,actionhero,actionviolence,brotherbrotherrelationship,memoryloss,dogkilled,murderofdog,stabbedwithapen,hangedtodeath,fatherdaughterrelationship,marriage,shotmultipletimes,vigilante,onepersonarmyaction,gunaction,gunbattle,shootout,corruption,suspense,deathofvillain,indestructible,killingmachine'"
      ]
     },
     "execution_count": 455,
     "metadata": {},
     "output_type": "execute_result"
    }
   ],
   "source": [
    "new_df['tags'][0]"
   ]
  },
  {
   "cell_type": "code",
   "execution_count": 456,
   "id": "be44b691-25e2-4469-af34-ba4df42ebe9b",
   "metadata": {},
   "outputs": [],
   "source": [
    "new_df['tags'] = new_df['tags'].str.replace(',', ' ')"
   ]
  },
  {
   "cell_type": "code",
   "execution_count": 457,
   "id": "b18b1a05-94ae-4e0c-adae-3812e5ade99f",
   "metadata": {},
   "outputs": [
    {
     "data": {
      "text/plain": [
       "'A high-octane action thriller which outlines the emotional journey of a man who is set to rectify the wrongs in the society. Action Thriller Atlee ShahRukhKhan Nayanthara VijaySethupathi DeepikaPadukone revenge chase suicide farmer train injustice police promise prison doctor showdown society battle fight highoctane vigilantejustice fathersonrelationship sceneduringendcredits songduringendcredits finalbattle dualrole hijack womenempowerment husbandwiferelationship mothersonrelationship pregnantwoman intermission songanddance motherdaughterrelationship actionhero actionviolence brotherbrotherrelationship memoryloss dogkilled murderofdog stabbedwithapen hangedtodeath fatherdaughterrelationship marriage shotmultipletimes vigilante onepersonarmyaction gunaction gunbattle shootout corruption suspense deathofvillain indestructible killingmachine'"
      ]
     },
     "execution_count": 457,
     "metadata": {},
     "output_type": "execute_result"
    }
   ],
   "source": [
    "new_df['tags'][0]"
   ]
  },
  {
   "cell_type": "code",
   "execution_count": null,
   "id": "31d10def-85e8-451c-9fde-e9b76f5c8749",
   "metadata": {},
   "outputs": [],
   "source": []
  },
  {
   "cell_type": "code",
   "execution_count": null,
   "id": "cd794af9-9f7f-4237-8816-781e67707961",
   "metadata": {},
   "outputs": [],
   "source": []
  },
  {
   "cell_type": "code",
   "execution_count": 471,
   "id": "ffdf53be-f73a-426e-892f-bc244fe964a8",
   "metadata": {},
   "outputs": [],
   "source": [
    "from sklearn.feature_extraction.text import CountVectorizer\n",
    "cv = CountVectorizer(max_features=5000,stop_words='english')\n"
   ]
  },
  {
   "cell_type": "code",
   "execution_count": 472,
   "id": "5d1304a6-43fe-498d-95fc-d2683606e029",
   "metadata": {},
   "outputs": [],
   "source": [
    "vector = cv.fit_transform(new_df['tags']).toarray()"
   ]
  },
  {
   "cell_type": "code",
   "execution_count": 473,
   "id": "795b1bbf-7f70-44c7-913c-71f0dec15bd5",
   "metadata": {},
   "outputs": [
    {
     "data": {
      "text/plain": [
       "array([[0, 0, 0, ..., 0, 0, 0],\n",
       "       [0, 0, 0, ..., 0, 0, 0],\n",
       "       [0, 0, 0, ..., 0, 0, 0],\n",
       "       ...,\n",
       "       [0, 0, 0, ..., 0, 0, 0],\n",
       "       [0, 0, 0, ..., 0, 0, 0],\n",
       "       [0, 0, 0, ..., 0, 0, 0]])"
      ]
     },
     "execution_count": 473,
     "metadata": {},
     "output_type": "execute_result"
    }
   ],
   "source": [
    "vector"
   ]
  },
  {
   "cell_type": "code",
   "execution_count": 474,
   "id": "1ce31adf-6253-4fe8-ab66-c6a72973eb32",
   "metadata": {},
   "outputs": [
    {
     "data": {
      "text/plain": [
       "(3976, 5000)"
      ]
     },
     "execution_count": 474,
     "metadata": {},
     "output_type": "execute_result"
    }
   ],
   "source": [
    "vector.shape"
   ]
  },
  {
   "cell_type": "code",
   "execution_count": 475,
   "id": "b8247df4-9e41-40fa-99bd-e9a9f534e28b",
   "metadata": {},
   "outputs": [],
   "source": [
    "from sklearn.metrics.pairwise import cosine_similarity"
   ]
  },
  {
   "cell_type": "code",
   "execution_count": 476,
   "id": "5fae3cd1-d415-4a02-bad2-1a228bb1ba82",
   "metadata": {},
   "outputs": [],
   "source": [
    "similarity = cosine_similarity(vector)"
   ]
  },
  {
   "cell_type": "code",
   "execution_count": 477,
   "id": "c46ebf8d-d444-45f2-a394-822bb4847fb1",
   "metadata": {},
   "outputs": [
    {
     "data": {
      "text/plain": [
       "array([[1.        , 0.04675246, 0.20088078, ..., 0.        , 0.        ,\n",
       "        0.02195814],\n",
       "       [0.04675246, 1.        , 0.07161149, ..., 0.        , 0.04303315,\n",
       "        0.03131121],\n",
       "       [0.20088078, 0.07161149, 1.        , ..., 0.        , 0.        ,\n",
       "        0.03363364],\n",
       "       ...,\n",
       "       [0.        , 0.        , 0.        , ..., 1.        , 0.12598816,\n",
       "        0.09166985],\n",
       "       [0.        , 0.04303315, 0.        , ..., 0.12598816, 1.        ,\n",
       "        0.16169042],\n",
       "       [0.02195814, 0.03131121, 0.03363364, ..., 0.09166985, 0.16169042,\n",
       "        1.        ]])"
      ]
     },
     "execution_count": 477,
     "metadata": {},
     "output_type": "execute_result"
    }
   ],
   "source": [
    "similarity"
   ]
  },
  {
   "cell_type": "code",
   "execution_count": 478,
   "id": "9ecc6502-fc1e-47fc-a94b-2a83dbd4a8a3",
   "metadata": {},
   "outputs": [
    {
     "name": "stdout",
     "output_type": "stream",
     "text": [
      "[[1.         0.04675246 0.20088078 ... 0.         0.         0.02195814]\n",
      " [0.04675246 1.         0.07161149 ... 0.         0.04303315 0.03131121]\n",
      " [0.20088078 0.07161149 1.         ... 0.         0.         0.03363364]\n",
      " ...\n",
      " [0.         0.         0.         ... 1.         0.12598816 0.09166985]\n",
      " [0.         0.04303315 0.         ... 0.12598816 1.         0.16169042]\n",
      " [0.02195814 0.03131121 0.03363364 ... 0.09166985 0.16169042 1.        ]]\n"
     ]
    }
   ],
   "source": [
    "print(similarity)"
   ]
  },
  {
   "cell_type": "code",
   "execution_count": 492,
   "id": "ad5b776b-a8f0-4c6c-818b-1ce8fc987ce5",
   "metadata": {},
   "outputs": [],
   "source": [
    "def recommend(movie):\n",
    "    index = new_df[new_df['movie_name'] == movie].index[0]\n",
    "    distances = sorted(list(enumerate(similarity[index])),reverse=True,key = lambda x: x[1])\n",
    "    for i in distances[1:20]:\n",
    "        # if i[1] >= 0.3:\n",
    "            print(new_df.iloc[i[0]].movie_name)\n",
    "        \n",
    "    "
   ]
  },
  {
   "cell_type": "code",
   "execution_count": 507,
   "id": "3701b7e3-9fff-4dba-98c1-9464c88cb3eb",
   "metadata": {
    "scrolled": true
   },
   "outputs": [
    {
     "name": "stdout",
     "output_type": "stream",
     "text": [
      "Oru Jaathi Jathakam\n",
      "Woh 3 Din\n",
      "Malaikottai Vaaliban\n",
      "Chehre\n",
      "Demons\n",
      "Kodiyil Oruvan\n",
      "Jaar\n",
      "Rangasamudra\n",
      "Jaggu Ki Lalten\n",
      "Kaagaz 2\n",
      "Meiyazhagan\n",
      "Successful Failure\n",
      "Bad\n",
      "U Shape Ki Gully\n",
      "The Spoils\n",
      "Fasal\n",
      "Ucha Dar Babe Nanak Da\n",
      "Karma Wallet\n",
      "Gulkand\n"
     ]
    }
   ],
   "source": [
    "recommend('The Diary of West Bengal')"
   ]
  },
  {
   "cell_type": "code",
   "execution_count": 490,
   "id": "59df8b85-757e-4b07-9c27-8ada3a135876",
   "metadata": {},
   "outputs": [
    {
     "data": {
      "text/html": [
       "<div>\n",
       "<style scoped>\n",
       "    .dataframe tbody tr th:only-of-type {\n",
       "        vertical-align: middle;\n",
       "    }\n",
       "\n",
       "    .dataframe tbody tr th {\n",
       "        vertical-align: top;\n",
       "    }\n",
       "\n",
       "    .dataframe thead th {\n",
       "        text-align: right;\n",
       "    }\n",
       "</style>\n",
       "<table border=\"1\" class=\"dataframe\">\n",
       "  <thead>\n",
       "    <tr style=\"text-align: right;\">\n",
       "      <th></th>\n",
       "      <th>movie_id</th>\n",
       "      <th>movie_name</th>\n",
       "      <th>year</th>\n",
       "      <th>tags</th>\n",
       "    </tr>\n",
       "  </thead>\n",
       "  <tbody>\n",
       "    <tr>\n",
       "      <th>2498</th>\n",
       "      <td>tt30893648</td>\n",
       "      <td>The Diary of West Bengal</td>\n",
       "      <td>2024</td>\n",
       "      <td>Centred around the illegal influx of Rohingya ...</td>\n",
       "    </tr>\n",
       "    <tr>\n",
       "      <th>1215</th>\n",
       "      <td>tt5842616</td>\n",
       "      <td>Veere Di Wedding</td>\n",
       "      <td>2018</td>\n",
       "      <td>Four girls on their way to find true love disc...</td>\n",
       "    </tr>\n",
       "    <tr>\n",
       "      <th>2601</th>\n",
       "      <td>tt16867258</td>\n",
       "      <td>Sheran Di Kaum Punjabi</td>\n",
       "      <td>2024</td>\n",
       "      <td>Unknown Action Adventure Drama History War Gip...</td>\n",
       "    </tr>\n",
       "    <tr>\n",
       "      <th>2719</th>\n",
       "      <td>tt19363246</td>\n",
       "      <td>Abhirami</td>\n",
       "      <td>2024</td>\n",
       "      <td>'Abhirami' is a story about a young lady who l...</td>\n",
       "    </tr>\n",
       "    <tr>\n",
       "      <th>3100</th>\n",
       "      <td>tt16899902</td>\n",
       "      <td>Jamalinte Punjiri</td>\n",
       "      <td>2024</td>\n",
       "      <td>In a world where injustice reigns and society ...</td>\n",
       "    </tr>\n",
       "  </tbody>\n",
       "</table>\n",
       "</div>"
      ],
      "text/plain": [
       "        movie_id                movie_name  year  \\\n",
       "2498  tt30893648  The Diary of West Bengal  2024   \n",
       "1215   tt5842616          Veere Di Wedding  2018   \n",
       "2601  tt16867258    Sheran Di Kaum Punjabi  2024   \n",
       "2719  tt19363246                  Abhirami  2024   \n",
       "3100  tt16899902         Jamalinte Punjiri  2024   \n",
       "\n",
       "                                                   tags  \n",
       "2498  Centred around the illegal influx of Rohingya ...  \n",
       "1215  Four girls on their way to find true love disc...  \n",
       "2601  Unknown Action Adventure Drama History War Gip...  \n",
       "2719  'Abhirami' is a story about a young lady who l...  \n",
       "3100  In a world where injustice reigns and society ...  "
      ]
     },
     "execution_count": 490,
     "metadata": {},
     "output_type": "execute_result"
    }
   ],
   "source": [
    "filtered.sample(5)"
   ]
  },
  {
   "cell_type": "code",
   "execution_count": 132,
   "id": "c145f5a0-33c5-4014-8bf1-ae695fe83786",
   "metadata": {},
   "outputs": [],
   "source": [
    "new_df2 = new_df.dropna(subset=['year'])"
   ]
  },
  {
   "cell_type": "code",
   "execution_count": 146,
   "id": "e593bc7b-fa1c-4d08-964d-fbaf9e6d3951",
   "metadata": {},
   "outputs": [],
   "source": [
    "filtered =new_df2[new_df2['year'] > 2000]"
   ]
  },
  {
   "cell_type": "code",
   "execution_count": 209,
   "id": "b99113cf-574c-4f51-9401-3265105ef5c0",
   "metadata": {},
   "outputs": [
    {
     "data": {
      "text/plain": [
       "0       False\n",
       "1       False\n",
       "2       False\n",
       "3       False\n",
       "4       False\n",
       "        ...  \n",
       "4026    False\n",
       "4027    False\n",
       "4028    False\n",
       "4029    False\n",
       "4030    False\n",
       "Name: movie_id, Length: 4031, dtype: bool"
      ]
     },
     "execution_count": 209,
     "metadata": {},
     "output_type": "execute_result"
    }
   ],
   "source": [
    "new_df[\"movie_id\"].duplicated().dropna()"
   ]
  },
  {
   "cell_type": "code",
   "execution_count": 210,
   "id": "8f2b21d5-e4a5-499f-9227-056ba264154f",
   "metadata": {},
   "outputs": [
    {
     "data": {
      "text/plain": [
       "np.int64(55)"
      ]
     },
     "execution_count": 210,
     "metadata": {},
     "output_type": "execute_result"
    }
   ],
   "source": [
    "new_df[\"movie_id\"].duplicated().sum()"
   ]
  },
  {
   "cell_type": "code",
   "execution_count": null,
   "id": "4b96a504-5e60-446d-b0f7-0106f7720299",
   "metadata": {},
   "outputs": [],
   "source": []
  }
 ],
 "metadata": {
  "kernelspec": {
   "display_name": "Python 3 (ipykernel)",
   "language": "python",
   "name": "python3"
  },
  "language_info": {
   "codemirror_mode": {
    "name": "ipython",
    "version": 3
   },
   "file_extension": ".py",
   "mimetype": "text/x-python",
   "name": "python",
   "nbconvert_exporter": "python",
   "pygments_lexer": "ipython3",
   "version": "3.12.5"
  }
 },
 "nbformat": 4,
 "nbformat_minor": 5
}
