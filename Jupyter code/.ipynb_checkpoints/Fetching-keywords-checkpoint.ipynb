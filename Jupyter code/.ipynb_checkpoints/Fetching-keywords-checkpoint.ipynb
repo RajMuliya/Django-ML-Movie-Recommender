{
 "cells": [
  {
   "cell_type": "code",
   "execution_count": 124,
   "id": "e102cbcb-b32b-435d-9d5c-7b55de2495c1",
   "metadata": {},
   "outputs": [
    {
     "name": "stdout",
     "output_type": "stream",
     "text": [
      "Requirement already satisfied: cinemagoer in c:\\users\\hp\\appdata\\local\\programs\\python\\python312\\lib\\site-packages (2023.5.1)\n",
      "Requirement already satisfied: SQLAlchemy in c:\\users\\hp\\appdata\\local\\programs\\python\\python312\\lib\\site-packages (from cinemagoer) (2.0.35)\n",
      "Requirement already satisfied: lxml in c:\\users\\hp\\appdata\\local\\programs\\python\\python312\\lib\\site-packages (from cinemagoer) (5.3.0)\n",
      "Requirement already satisfied: typing-extensions>=4.6.0 in c:\\users\\hp\\appdata\\local\\programs\\python\\python312\\lib\\site-packages (from SQLAlchemy->cinemagoer) (4.12.2)\n",
      "Requirement already satisfied: greenlet!=0.4.17 in c:\\users\\hp\\appdata\\local\\programs\\python\\python312\\lib\\site-packages (from SQLAlchemy->cinemagoer) (3.1.1)\n",
      "Note: you may need to restart the kernel to use updated packages.\n"
     ]
    },
    {
     "name": "stderr",
     "output_type": "stream",
     "text": [
      "WARNING: Ignoring invalid distribution ~ip (C:\\Users\\HP\\AppData\\Local\\Programs\\Python\\Python312\\Lib\\site-packages)\n",
      "WARNING: Ignoring invalid distribution ~ip (C:\\Users\\HP\\AppData\\Local\\Programs\\Python\\Python312\\Lib\\site-packages)\n",
      "WARNING: Ignoring invalid distribution ~ip (C:\\Users\\HP\\AppData\\Local\\Programs\\Python\\Python312\\Lib\\site-packages)\n"
     ]
    }
   ],
   "source": [
    "pip install cinemagoer"
   ]
  },
  {
   "cell_type": "code",
   "execution_count": 125,
   "id": "d22efcab-b4b4-4a84-b10c-49687e546ef5",
   "metadata": {},
   "outputs": [],
   "source": [
    "import pandas as pd\n",
    "import requests\n",
    "import re\n",
    "from imdb import Cinemagoer\n",
    "import time\n",
    "import numpy as np"
   ]
  },
  {
   "cell_type": "code",
   "execution_count": 5,
   "id": "8c2532cd-edf5-4435-ad9e-0a1f8e2ef838",
   "metadata": {},
   "outputs": [],
   "source": [
    "df=pd.read_csv(\"Final_Movie_Dataset.csv\", index_col=0)"
   ]
  },
  {
   "cell_type": "code",
   "execution_count": 7,
   "id": "4b4459c0-91e4-4f46-9433-3c560b106956",
   "metadata": {},
   "outputs": [],
   "source": [
    "def extract_ids(link_string):\n",
    "    # Use regex to find all occurrences of 'tt' followed by digits, then remove 'tt'\n",
    "    ids = re.findall(r'tt(\\d+)', link_string)  # Capture only the digits after 'tt'\n",
    "    # Join the list of numeric IDs into a single string, separated by commas\n",
    "    return ', '.join(ids)"
   ]
  },
  {
   "cell_type": "code",
   "execution_count": 9,
   "id": "0be5d5f0-f7bb-48d6-8a27-62ad86178bee",
   "metadata": {},
   "outputs": [],
   "source": [
    "df['movie_id2'] = df['movie_id'].apply(extract_ids)"
   ]
  },
  {
   "cell_type": "code",
   "execution_count": 121,
   "id": "646c72e9-d3a3-4cef-b6a0-aac79972c496",
   "metadata": {},
   "outputs": [],
   "source": [
    "ia = Cinemagoer()"
   ]
  },
  {
   "cell_type": "code",
   "execution_count": 122,
   "id": "a3abe3bb-e0f1-4975-be6a-2a6b68d1bc58",
   "metadata": {},
   "outputs": [],
   "source": [
    "keywords_list=[]"
   ]
  },
  {
   "cell_type": "code",
   "execution_count": 123,
   "id": "e3562ba1-fb88-4bca-a286-5b236cdb8998",
   "metadata": {},
   "outputs": [
    {
     "data": {
      "text/plain": [
       "(4031, 8)"
      ]
     },
     "execution_count": 123,
     "metadata": {},
     "output_type": "execute_result"
    }
   ],
   "source": [
    "df.shape"
   ]
  },
  {
   "cell_type": "code",
   "execution_count": 110,
   "id": "5525bb60-fa85-4094-a299-1b7d29894a02",
   "metadata": {},
   "outputs": [],
   "source": [
    "for movie_name in df['movie_name']:  # Replace 'movie_name' with the actual column name in your CSV\n",
    "    # Search for the movie by title\n",
    "    movies = ia.search_keyword(movie_name)\n",
    "    \n",
    "    if movies:\n",
    "        # Get the first search result\n",
    "        # movie_titles = [movie['title'] for movie in movies]\n",
    "        keywords_list.append(', '.join(movies))  # Join movie titles as a string\n",
    "        \n",
    "    else:\n",
    "        keywords_list.append('unknown')  # If movie not found\n",
    "    time.sleep(0.3)"
   ]
  },
  {
   "cell_type": "code",
   "execution_count": 120,
   "id": "84e41ee8-8c5f-45e0-950b-dee4768420bd",
   "metadata": {},
   "outputs": [
    {
     "data": {
      "text/plain": [
       "'unknown'"
      ]
     },
     "execution_count": 120,
     "metadata": {},
     "output_type": "execute_result"
    }
   ],
   "source": [
    "keywords_list[5]"
   ]
  },
  {
   "cell_type": "code",
   "execution_count": 118,
   "id": "672c773c-51e2-4c71-99de-ff91a98c5600",
   "metadata": {},
   "outputs": [
    {
     "data": {
      "text/plain": [
       "[]"
      ]
     },
     "execution_count": 118,
     "metadata": {},
     "output_type": "execute_result"
    }
   ],
   "source": [
    "keywords = ia.search_keyword('Govinda Naam Mera')\n",
    "keywords"
   ]
  },
  {
   "cell_type": "code",
   "execution_count": null,
   "id": "20283b79-4276-418a-98c9-6fe20b2d7394",
   "metadata": {},
   "outputs": [],
   "source": []
  }
 ],
 "metadata": {
  "kernelspec": {
   "display_name": "Python 3 (ipykernel)",
   "language": "python",
   "name": "python3"
  },
  "language_info": {
   "codemirror_mode": {
    "name": "ipython",
    "version": 3
   },
   "file_extension": ".py",
   "mimetype": "text/x-python",
   "name": "python",
   "nbconvert_exporter": "python",
   "pygments_lexer": "ipython3",
   "version": "3.12.5"
  }
 },
 "nbformat": 4,
 "nbformat_minor": 5
}
